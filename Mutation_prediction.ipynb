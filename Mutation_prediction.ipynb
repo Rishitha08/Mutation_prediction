{
  "nbformat": 4,
  "nbformat_minor": 0,
  "metadata": {
    "colab": {
      "provenance": []
    },
    "kernelspec": {
      "name": "python3",
      "display_name": "Python 3"
    },
    "language_info": {
      "name": "python"
    }
  },
  "cells": [
    {
      "cell_type": "code",
      "execution_count": 1,
      "metadata": {
        "colab": {
          "base_uri": "https://localhost:8080/"
        },
        "id": "BLFqbvqGo55g",
        "outputId": "85edb51c-1141-4289-98ac-879fb41b7b0c"
      },
      "outputs": [
        {
          "output_type": "execute_result",
          "data": {
            "text/plain": [
              "['.config',\n",
              " 'Project_score_combined_Sanger_v2_Broad_21Q2_fitness_scores_bayesian_factors_20240111.tsv',\n",
              " 'sample_data']"
            ]
          },
          "metadata": {},
          "execution_count": 1
        }
      ],
      "source": [
        "import os\n",
        "\n",
        "# List all files in the current folder\n",
        "os.listdir('/content')\n"
      ]
    },
    {
      "cell_type": "code",
      "source": [
        "import pandas as pd\n",
        "\n",
        "# Set the correct file path\n",
        "file_path = \"/content/Project_score_combined_Sanger_v2_Broad_21Q2_fitness_scores_bayesian_factors_20240111.tsv\"\n",
        "\n",
        "# Read the TSV file\n",
        "df = pd.read_csv(file_path, sep=\"\\t\", skiprows=4, index_col=0)\n",
        "\n",
        "# Show first few rows\n",
        "df.head()\n"
      ],
      "metadata": {
        "colab": {
          "base_uri": "https://localhost:8080/",
          "height": 304
        },
        "id": "ojB8bWx9prHb",
        "outputId": "6dcd5865-86ae-4536-e16b-96da30d9581f"
      },
      "execution_count": 2,
      "outputs": [
        {
          "output_type": "execute_result",
          "data": {
            "text/plain": [
              "         Unnamed: 1  Unnamed: 2  Unnamed: 3  Unnamed: 4  Unnamed: 5  \\\n",
              "symbol                                                                \n",
              "SHOC2     -2.886725    1.438297   -1.962681   -0.757645    5.896321   \n",
              "NDUFA12   -2.090611   -1.804637   -4.635780   -3.354879   -0.524970   \n",
              "SDAD1      3.629103   10.826865    7.164109    7.570433    8.411831   \n",
              "FAM98A    -1.497354   -4.110268   -4.731299   -6.771505   -3.222718   \n",
              "ZNF253     0.033239   -2.329164   -3.112877   -0.542493    0.372970   \n",
              "\n",
              "         Unnamed: 6  Unnamed: 7  Unnamed: 8  Unnamed: 9  Unnamed: 10  ...  \\\n",
              "symbol                                                                ...   \n",
              "SHOC2     -4.343524   -3.936071   -0.321454    8.420880     1.186521  ...   \n",
              "NDUFA12   -3.433590   -3.254228   -4.294765   -4.603002    -3.461631  ...   \n",
              "SDAD1      2.549277    6.624734    5.511653   10.002429    15.770140  ...   \n",
              "FAM98A     0.450640   -5.355525   -5.050130   -4.274131    -3.775691  ...   \n",
              "ZNF253    -1.320984   -2.076306   -0.433404   -2.168260    -2.038487  ...   \n",
              "\n",
              "         Unnamed: 1098  Unnamed: 1099  Unnamed: 1100  Unnamed: 1101  \\\n",
              "symbol                                                                \n",
              "SHOC2        -0.991453       3.513350      -3.024646      -0.614674   \n",
              "NDUFA12      -2.711216      -2.026238      -0.239538      -3.686408   \n",
              "SDAD1         6.315442       5.496482       9.638240       2.861210   \n",
              "FAM98A       -4.964199      -3.077355      -2.392529      -3.706384   \n",
              "ZNF253       -4.103390      -2.548350      -2.569358      -3.160315   \n",
              "\n",
              "         Unnamed: 1102  Unnamed: 1103  Unnamed: 1104  Unnamed: 1105  \\\n",
              "symbol                                                                \n",
              "SHOC2        -1.295874       0.619439      -2.450505      12.094451   \n",
              "NDUFA12      -1.325144      -0.644554      -0.082748      -3.865540   \n",
              "SDAD1         3.852589       7.365158       3.602195      25.150583   \n",
              "FAM98A       -3.890190      -1.164276      -5.017620       1.055537   \n",
              "ZNF253       -2.916280      -2.814779      -3.243669       1.552628   \n",
              "\n",
              "         Unnamed: 1106  Unnamed: 1107  \n",
              "symbol                                 \n",
              "SHOC2         0.563805      -0.986187  \n",
              "NDUFA12      -4.541024      -1.957005  \n",
              "SDAD1        10.342452       7.069657  \n",
              "FAM98A       -4.417222      -2.020223  \n",
              "ZNF253       -1.677845      -1.799420  \n",
              "\n",
              "[5 rows x 1107 columns]"
            ],
            "text/html": [
              "\n",
              "  <div id=\"df-88f6fc04-1bcc-4a95-bcfb-73479a3913e6\" class=\"colab-df-container\">\n",
              "    <div>\n",
              "<style scoped>\n",
              "    .dataframe tbody tr th:only-of-type {\n",
              "        vertical-align: middle;\n",
              "    }\n",
              "\n",
              "    .dataframe tbody tr th {\n",
              "        vertical-align: top;\n",
              "    }\n",
              "\n",
              "    .dataframe thead th {\n",
              "        text-align: right;\n",
              "    }\n",
              "</style>\n",
              "<table border=\"1\" class=\"dataframe\">\n",
              "  <thead>\n",
              "    <tr style=\"text-align: right;\">\n",
              "      <th></th>\n",
              "      <th>Unnamed: 1</th>\n",
              "      <th>Unnamed: 2</th>\n",
              "      <th>Unnamed: 3</th>\n",
              "      <th>Unnamed: 4</th>\n",
              "      <th>Unnamed: 5</th>\n",
              "      <th>Unnamed: 6</th>\n",
              "      <th>Unnamed: 7</th>\n",
              "      <th>Unnamed: 8</th>\n",
              "      <th>Unnamed: 9</th>\n",
              "      <th>Unnamed: 10</th>\n",
              "      <th>...</th>\n",
              "      <th>Unnamed: 1098</th>\n",
              "      <th>Unnamed: 1099</th>\n",
              "      <th>Unnamed: 1100</th>\n",
              "      <th>Unnamed: 1101</th>\n",
              "      <th>Unnamed: 1102</th>\n",
              "      <th>Unnamed: 1103</th>\n",
              "      <th>Unnamed: 1104</th>\n",
              "      <th>Unnamed: 1105</th>\n",
              "      <th>Unnamed: 1106</th>\n",
              "      <th>Unnamed: 1107</th>\n",
              "    </tr>\n",
              "    <tr>\n",
              "      <th>symbol</th>\n",
              "      <th></th>\n",
              "      <th></th>\n",
              "      <th></th>\n",
              "      <th></th>\n",
              "      <th></th>\n",
              "      <th></th>\n",
              "      <th></th>\n",
              "      <th></th>\n",
              "      <th></th>\n",
              "      <th></th>\n",
              "      <th></th>\n",
              "      <th></th>\n",
              "      <th></th>\n",
              "      <th></th>\n",
              "      <th></th>\n",
              "      <th></th>\n",
              "      <th></th>\n",
              "      <th></th>\n",
              "      <th></th>\n",
              "      <th></th>\n",
              "      <th></th>\n",
              "    </tr>\n",
              "  </thead>\n",
              "  <tbody>\n",
              "    <tr>\n",
              "      <th>SHOC2</th>\n",
              "      <td>-2.886725</td>\n",
              "      <td>1.438297</td>\n",
              "      <td>-1.962681</td>\n",
              "      <td>-0.757645</td>\n",
              "      <td>5.896321</td>\n",
              "      <td>-4.343524</td>\n",
              "      <td>-3.936071</td>\n",
              "      <td>-0.321454</td>\n",
              "      <td>8.420880</td>\n",
              "      <td>1.186521</td>\n",
              "      <td>...</td>\n",
              "      <td>-0.991453</td>\n",
              "      <td>3.513350</td>\n",
              "      <td>-3.024646</td>\n",
              "      <td>-0.614674</td>\n",
              "      <td>-1.295874</td>\n",
              "      <td>0.619439</td>\n",
              "      <td>-2.450505</td>\n",
              "      <td>12.094451</td>\n",
              "      <td>0.563805</td>\n",
              "      <td>-0.986187</td>\n",
              "    </tr>\n",
              "    <tr>\n",
              "      <th>NDUFA12</th>\n",
              "      <td>-2.090611</td>\n",
              "      <td>-1.804637</td>\n",
              "      <td>-4.635780</td>\n",
              "      <td>-3.354879</td>\n",
              "      <td>-0.524970</td>\n",
              "      <td>-3.433590</td>\n",
              "      <td>-3.254228</td>\n",
              "      <td>-4.294765</td>\n",
              "      <td>-4.603002</td>\n",
              "      <td>-3.461631</td>\n",
              "      <td>...</td>\n",
              "      <td>-2.711216</td>\n",
              "      <td>-2.026238</td>\n",
              "      <td>-0.239538</td>\n",
              "      <td>-3.686408</td>\n",
              "      <td>-1.325144</td>\n",
              "      <td>-0.644554</td>\n",
              "      <td>-0.082748</td>\n",
              "      <td>-3.865540</td>\n",
              "      <td>-4.541024</td>\n",
              "      <td>-1.957005</td>\n",
              "    </tr>\n",
              "    <tr>\n",
              "      <th>SDAD1</th>\n",
              "      <td>3.629103</td>\n",
              "      <td>10.826865</td>\n",
              "      <td>7.164109</td>\n",
              "      <td>7.570433</td>\n",
              "      <td>8.411831</td>\n",
              "      <td>2.549277</td>\n",
              "      <td>6.624734</td>\n",
              "      <td>5.511653</td>\n",
              "      <td>10.002429</td>\n",
              "      <td>15.770140</td>\n",
              "      <td>...</td>\n",
              "      <td>6.315442</td>\n",
              "      <td>5.496482</td>\n",
              "      <td>9.638240</td>\n",
              "      <td>2.861210</td>\n",
              "      <td>3.852589</td>\n",
              "      <td>7.365158</td>\n",
              "      <td>3.602195</td>\n",
              "      <td>25.150583</td>\n",
              "      <td>10.342452</td>\n",
              "      <td>7.069657</td>\n",
              "    </tr>\n",
              "    <tr>\n",
              "      <th>FAM98A</th>\n",
              "      <td>-1.497354</td>\n",
              "      <td>-4.110268</td>\n",
              "      <td>-4.731299</td>\n",
              "      <td>-6.771505</td>\n",
              "      <td>-3.222718</td>\n",
              "      <td>0.450640</td>\n",
              "      <td>-5.355525</td>\n",
              "      <td>-5.050130</td>\n",
              "      <td>-4.274131</td>\n",
              "      <td>-3.775691</td>\n",
              "      <td>...</td>\n",
              "      <td>-4.964199</td>\n",
              "      <td>-3.077355</td>\n",
              "      <td>-2.392529</td>\n",
              "      <td>-3.706384</td>\n",
              "      <td>-3.890190</td>\n",
              "      <td>-1.164276</td>\n",
              "      <td>-5.017620</td>\n",
              "      <td>1.055537</td>\n",
              "      <td>-4.417222</td>\n",
              "      <td>-2.020223</td>\n",
              "    </tr>\n",
              "    <tr>\n",
              "      <th>ZNF253</th>\n",
              "      <td>0.033239</td>\n",
              "      <td>-2.329164</td>\n",
              "      <td>-3.112877</td>\n",
              "      <td>-0.542493</td>\n",
              "      <td>0.372970</td>\n",
              "      <td>-1.320984</td>\n",
              "      <td>-2.076306</td>\n",
              "      <td>-0.433404</td>\n",
              "      <td>-2.168260</td>\n",
              "      <td>-2.038487</td>\n",
              "      <td>...</td>\n",
              "      <td>-4.103390</td>\n",
              "      <td>-2.548350</td>\n",
              "      <td>-2.569358</td>\n",
              "      <td>-3.160315</td>\n",
              "      <td>-2.916280</td>\n",
              "      <td>-2.814779</td>\n",
              "      <td>-3.243669</td>\n",
              "      <td>1.552628</td>\n",
              "      <td>-1.677845</td>\n",
              "      <td>-1.799420</td>\n",
              "    </tr>\n",
              "  </tbody>\n",
              "</table>\n",
              "<p>5 rows × 1107 columns</p>\n",
              "</div>\n",
              "    <div class=\"colab-df-buttons\">\n",
              "\n",
              "  <div class=\"colab-df-container\">\n",
              "    <button class=\"colab-df-convert\" onclick=\"convertToInteractive('df-88f6fc04-1bcc-4a95-bcfb-73479a3913e6')\"\n",
              "            title=\"Convert this dataframe to an interactive table.\"\n",
              "            style=\"display:none;\">\n",
              "\n",
              "  <svg xmlns=\"http://www.w3.org/2000/svg\" height=\"24px\" viewBox=\"0 -960 960 960\">\n",
              "    <path d=\"M120-120v-720h720v720H120Zm60-500h600v-160H180v160Zm220 220h160v-160H400v160Zm0 220h160v-160H400v160ZM180-400h160v-160H180v160Zm440 0h160v-160H620v160ZM180-180h160v-160H180v160Zm440 0h160v-160H620v160Z\"/>\n",
              "  </svg>\n",
              "    </button>\n",
              "\n",
              "  <style>\n",
              "    .colab-df-container {\n",
              "      display:flex;\n",
              "      gap: 12px;\n",
              "    }\n",
              "\n",
              "    .colab-df-convert {\n",
              "      background-color: #E8F0FE;\n",
              "      border: none;\n",
              "      border-radius: 50%;\n",
              "      cursor: pointer;\n",
              "      display: none;\n",
              "      fill: #1967D2;\n",
              "      height: 32px;\n",
              "      padding: 0 0 0 0;\n",
              "      width: 32px;\n",
              "    }\n",
              "\n",
              "    .colab-df-convert:hover {\n",
              "      background-color: #E2EBFA;\n",
              "      box-shadow: 0px 1px 2px rgba(60, 64, 67, 0.3), 0px 1px 3px 1px rgba(60, 64, 67, 0.15);\n",
              "      fill: #174EA6;\n",
              "    }\n",
              "\n",
              "    .colab-df-buttons div {\n",
              "      margin-bottom: 4px;\n",
              "    }\n",
              "\n",
              "    [theme=dark] .colab-df-convert {\n",
              "      background-color: #3B4455;\n",
              "      fill: #D2E3FC;\n",
              "    }\n",
              "\n",
              "    [theme=dark] .colab-df-convert:hover {\n",
              "      background-color: #434B5C;\n",
              "      box-shadow: 0px 1px 3px 1px rgba(0, 0, 0, 0.15);\n",
              "      filter: drop-shadow(0px 1px 2px rgba(0, 0, 0, 0.3));\n",
              "      fill: #FFFFFF;\n",
              "    }\n",
              "  </style>\n",
              "\n",
              "    <script>\n",
              "      const buttonEl =\n",
              "        document.querySelector('#df-88f6fc04-1bcc-4a95-bcfb-73479a3913e6 button.colab-df-convert');\n",
              "      buttonEl.style.display =\n",
              "        google.colab.kernel.accessAllowed ? 'block' : 'none';\n",
              "\n",
              "      async function convertToInteractive(key) {\n",
              "        const element = document.querySelector('#df-88f6fc04-1bcc-4a95-bcfb-73479a3913e6');\n",
              "        const dataTable =\n",
              "          await google.colab.kernel.invokeFunction('convertToInteractive',\n",
              "                                                    [key], {});\n",
              "        if (!dataTable) return;\n",
              "\n",
              "        const docLinkHtml = 'Like what you see? Visit the ' +\n",
              "          '<a target=\"_blank\" href=https://colab.research.google.com/notebooks/data_table.ipynb>data table notebook</a>'\n",
              "          + ' to learn more about interactive tables.';\n",
              "        element.innerHTML = '';\n",
              "        dataTable['output_type'] = 'display_data';\n",
              "        await google.colab.output.renderOutput(dataTable, element);\n",
              "        const docLink = document.createElement('div');\n",
              "        docLink.innerHTML = docLinkHtml;\n",
              "        element.appendChild(docLink);\n",
              "      }\n",
              "    </script>\n",
              "  </div>\n",
              "\n",
              "\n",
              "    <div id=\"df-bba8df1c-0083-467e-a8bb-b2cb59a7a79b\">\n",
              "      <button class=\"colab-df-quickchart\" onclick=\"quickchart('df-bba8df1c-0083-467e-a8bb-b2cb59a7a79b')\"\n",
              "                title=\"Suggest charts\"\n",
              "                style=\"display:none;\">\n",
              "\n",
              "<svg xmlns=\"http://www.w3.org/2000/svg\" height=\"24px\"viewBox=\"0 0 24 24\"\n",
              "     width=\"24px\">\n",
              "    <g>\n",
              "        <path d=\"M19 3H5c-1.1 0-2 .9-2 2v14c0 1.1.9 2 2 2h14c1.1 0 2-.9 2-2V5c0-1.1-.9-2-2-2zM9 17H7v-7h2v7zm4 0h-2V7h2v10zm4 0h-2v-4h2v4z\"/>\n",
              "    </g>\n",
              "</svg>\n",
              "      </button>\n",
              "\n",
              "<style>\n",
              "  .colab-df-quickchart {\n",
              "      --bg-color: #E8F0FE;\n",
              "      --fill-color: #1967D2;\n",
              "      --hover-bg-color: #E2EBFA;\n",
              "      --hover-fill-color: #174EA6;\n",
              "      --disabled-fill-color: #AAA;\n",
              "      --disabled-bg-color: #DDD;\n",
              "  }\n",
              "\n",
              "  [theme=dark] .colab-df-quickchart {\n",
              "      --bg-color: #3B4455;\n",
              "      --fill-color: #D2E3FC;\n",
              "      --hover-bg-color: #434B5C;\n",
              "      --hover-fill-color: #FFFFFF;\n",
              "      --disabled-bg-color: #3B4455;\n",
              "      --disabled-fill-color: #666;\n",
              "  }\n",
              "\n",
              "  .colab-df-quickchart {\n",
              "    background-color: var(--bg-color);\n",
              "    border: none;\n",
              "    border-radius: 50%;\n",
              "    cursor: pointer;\n",
              "    display: none;\n",
              "    fill: var(--fill-color);\n",
              "    height: 32px;\n",
              "    padding: 0;\n",
              "    width: 32px;\n",
              "  }\n",
              "\n",
              "  .colab-df-quickchart:hover {\n",
              "    background-color: var(--hover-bg-color);\n",
              "    box-shadow: 0 1px 2px rgba(60, 64, 67, 0.3), 0 1px 3px 1px rgba(60, 64, 67, 0.15);\n",
              "    fill: var(--button-hover-fill-color);\n",
              "  }\n",
              "\n",
              "  .colab-df-quickchart-complete:disabled,\n",
              "  .colab-df-quickchart-complete:disabled:hover {\n",
              "    background-color: var(--disabled-bg-color);\n",
              "    fill: var(--disabled-fill-color);\n",
              "    box-shadow: none;\n",
              "  }\n",
              "\n",
              "  .colab-df-spinner {\n",
              "    border: 2px solid var(--fill-color);\n",
              "    border-color: transparent;\n",
              "    border-bottom-color: var(--fill-color);\n",
              "    animation:\n",
              "      spin 1s steps(1) infinite;\n",
              "  }\n",
              "\n",
              "  @keyframes spin {\n",
              "    0% {\n",
              "      border-color: transparent;\n",
              "      border-bottom-color: var(--fill-color);\n",
              "      border-left-color: var(--fill-color);\n",
              "    }\n",
              "    20% {\n",
              "      border-color: transparent;\n",
              "      border-left-color: var(--fill-color);\n",
              "      border-top-color: var(--fill-color);\n",
              "    }\n",
              "    30% {\n",
              "      border-color: transparent;\n",
              "      border-left-color: var(--fill-color);\n",
              "      border-top-color: var(--fill-color);\n",
              "      border-right-color: var(--fill-color);\n",
              "    }\n",
              "    40% {\n",
              "      border-color: transparent;\n",
              "      border-right-color: var(--fill-color);\n",
              "      border-top-color: var(--fill-color);\n",
              "    }\n",
              "    60% {\n",
              "      border-color: transparent;\n",
              "      border-right-color: var(--fill-color);\n",
              "    }\n",
              "    80% {\n",
              "      border-color: transparent;\n",
              "      border-right-color: var(--fill-color);\n",
              "      border-bottom-color: var(--fill-color);\n",
              "    }\n",
              "    90% {\n",
              "      border-color: transparent;\n",
              "      border-bottom-color: var(--fill-color);\n",
              "    }\n",
              "  }\n",
              "</style>\n",
              "\n",
              "      <script>\n",
              "        async function quickchart(key) {\n",
              "          const quickchartButtonEl =\n",
              "            document.querySelector('#' + key + ' button');\n",
              "          quickchartButtonEl.disabled = true;  // To prevent multiple clicks.\n",
              "          quickchartButtonEl.classList.add('colab-df-spinner');\n",
              "          try {\n",
              "            const charts = await google.colab.kernel.invokeFunction(\n",
              "                'suggestCharts', [key], {});\n",
              "          } catch (error) {\n",
              "            console.error('Error during call to suggestCharts:', error);\n",
              "          }\n",
              "          quickchartButtonEl.classList.remove('colab-df-spinner');\n",
              "          quickchartButtonEl.classList.add('colab-df-quickchart-complete');\n",
              "        }\n",
              "        (() => {\n",
              "          let quickchartButtonEl =\n",
              "            document.querySelector('#df-bba8df1c-0083-467e-a8bb-b2cb59a7a79b button');\n",
              "          quickchartButtonEl.style.display =\n",
              "            google.colab.kernel.accessAllowed ? 'block' : 'none';\n",
              "        })();\n",
              "      </script>\n",
              "    </div>\n",
              "\n",
              "    </div>\n",
              "  </div>\n"
            ],
            "application/vnd.google.colaboratory.intrinsic+json": {
              "type": "dataframe",
              "variable_name": "df"
            }
          },
          "metadata": {},
          "execution_count": 2
        }
      ]
    },
    {
      "cell_type": "code",
      "source": [
        "import pandas as pd\n",
        "\n",
        "# Load the file\n",
        "df = pd.read_csv(\"/content/Project_score_combined_Sanger_v2_Broad_21Q2_fitness_scores_bayesian_factors_20240111.tsv\", sep=\"\\t\", skiprows=4, index_col=0)\n",
        "\n",
        "# Show shape of the data\n",
        "print(\"Data shape:\", df.shape)\n",
        "\n",
        "# Show first 5 rows\n",
        "print(df.head())\n",
        "\n",
        "# Check if there are missing values\n",
        "print(\"\\nMissing values per column:\\n\", df.isnull().sum().sort_values(ascending=False).head(10))\n"
      ],
      "metadata": {
        "colab": {
          "base_uri": "https://localhost:8080/"
        },
        "id": "bGv7kqxiqJAG",
        "outputId": "23c55828-ce10-47c1-fec1-d8c084fe3b9c"
      },
      "execution_count": 3,
      "outputs": [
        {
          "output_type": "stream",
          "name": "stdout",
          "text": [
            "Data shape: (16506, 1107)\n",
            "         Unnamed: 1  Unnamed: 2  Unnamed: 3  Unnamed: 4  Unnamed: 5  \\\n",
            "symbol                                                                \n",
            "SHOC2     -2.886725    1.438297   -1.962681   -0.757645    5.896321   \n",
            "NDUFA12   -2.090611   -1.804637   -4.635780   -3.354879   -0.524970   \n",
            "SDAD1      3.629103   10.826865    7.164109    7.570433    8.411831   \n",
            "FAM98A    -1.497354   -4.110268   -4.731299   -6.771505   -3.222718   \n",
            "ZNF253     0.033239   -2.329164   -3.112877   -0.542493    0.372970   \n",
            "\n",
            "         Unnamed: 6  Unnamed: 7  Unnamed: 8  Unnamed: 9  Unnamed: 10  ...  \\\n",
            "symbol                                                                ...   \n",
            "SHOC2     -4.343524   -3.936071   -0.321454    8.420880     1.186521  ...   \n",
            "NDUFA12   -3.433590   -3.254228   -4.294765   -4.603002    -3.461631  ...   \n",
            "SDAD1      2.549277    6.624734    5.511653   10.002429    15.770140  ...   \n",
            "FAM98A     0.450640   -5.355525   -5.050130   -4.274131    -3.775691  ...   \n",
            "ZNF253    -1.320984   -2.076306   -0.433404   -2.168260    -2.038487  ...   \n",
            "\n",
            "         Unnamed: 1098  Unnamed: 1099  Unnamed: 1100  Unnamed: 1101  \\\n",
            "symbol                                                                \n",
            "SHOC2        -0.991453       3.513350      -3.024646      -0.614674   \n",
            "NDUFA12      -2.711216      -2.026238      -0.239538      -3.686408   \n",
            "SDAD1         6.315442       5.496482       9.638240       2.861210   \n",
            "FAM98A       -4.964199      -3.077355      -2.392529      -3.706384   \n",
            "ZNF253       -4.103390      -2.548350      -2.569358      -3.160315   \n",
            "\n",
            "         Unnamed: 1102  Unnamed: 1103  Unnamed: 1104  Unnamed: 1105  \\\n",
            "symbol                                                                \n",
            "SHOC2        -1.295874       0.619439      -2.450505      12.094451   \n",
            "NDUFA12      -1.325144      -0.644554      -0.082748      -3.865540   \n",
            "SDAD1         3.852589       7.365158       3.602195      25.150583   \n",
            "FAM98A       -3.890190      -1.164276      -5.017620       1.055537   \n",
            "ZNF253       -2.916280      -2.814779      -3.243669       1.552628   \n",
            "\n",
            "         Unnamed: 1106  Unnamed: 1107  \n",
            "symbol                                 \n",
            "SHOC2         0.563805      -0.986187  \n",
            "NDUFA12      -4.541024      -1.957005  \n",
            "SDAD1        10.342452       7.069657  \n",
            "FAM98A       -4.417222      -2.020223  \n",
            "ZNF253       -1.677845      -1.799420  \n",
            "\n",
            "[5 rows x 1107 columns]\n",
            "\n",
            "Missing values per column:\n",
            " Unnamed: 1092    1\n",
            "Unnamed: 1091    1\n",
            "Unnamed: 1077    1\n",
            "Unnamed: 1078    1\n",
            "Unnamed: 1079    1\n",
            "Unnamed: 1080    1\n",
            "Unnamed: 1081    1\n",
            "Unnamed: 1082    1\n",
            "Unnamed: 1083    1\n",
            "Unnamed: 1084    1\n",
            "dtype: int64\n"
          ]
        }
      ]
    },
    {
      "cell_type": "code",
      "source": [
        "import pandas as pd\n",
        "from sklearn.model_selection import train_test_split\n",
        "from sklearn.linear_model import Ridge\n",
        "from sklearn.metrics import mean_squared_error\n",
        "from sklearn.preprocessing import StandardScaler\n",
        "\n",
        "# Drop columns with missing values\n",
        "df_clean = df.dropna(axis=1)\n",
        "\n",
        "# Convert DataFrame to numpy format\n",
        "X = df_clean.values  # all features\n",
        "y = df_clean.mean(axis=1).values  # target = average fitness impact for each gene\n",
        "\n",
        "# Scale the features\n",
        "scaler = StandardScaler()\n",
        "X_scaled = scaler.fit_transform(X)\n",
        "\n",
        "# Split the data\n",
        "X_train, X_test, y_train, y_test = train_test_split(X_scaled, y, test_size=0.2, random_state=42)\n",
        "\n",
        "# Train Ridge Regression model\n",
        "model = Ridge(alpha=1.0)\n",
        "model.fit(X_train, y_train)\n",
        "\n",
        "# Predict and evaluate\n",
        "y_pred = model.predict(X_test)\n",
        "mse = mean_squared_error(y_test, y_pred)\n",
        "\n",
        "print(f\"Mean Squared Error: {mse:.4f}\")\n"
      ],
      "metadata": {
        "colab": {
          "base_uri": "https://localhost:8080/"
        },
        "id": "lB1D42T-qeYP",
        "outputId": "9ad87050-2c98-470d-ef7d-7c97d3e6577d"
      },
      "execution_count": 4,
      "outputs": [
        {
          "output_type": "stream",
          "name": "stdout",
          "text": [
            "Mean Squared Error: 0.0000\n"
          ]
        }
      ]
    },
    {
      "cell_type": "code",
      "source": [
        "print(\"Train shape:\", X_train.shape, y_train.shape)\n",
        "print(\"Test shape:\", X_test.shape, y_test.shape)\n"
      ],
      "metadata": {
        "colab": {
          "base_uri": "https://localhost:8080/"
        },
        "id": "KI8BtGNmrB6-",
        "outputId": "312962e4-f900-474b-8467-84183921d34c"
      },
      "execution_count": 5,
      "outputs": [
        {
          "output_type": "stream",
          "name": "stdout",
          "text": [
            "Train shape: (13204, 738) (13204,)\n",
            "Test shape: (3302, 738) (3302,)\n"
          ]
        }
      ]
    },
    {
      "cell_type": "code",
      "source": [
        "for i in range(20):\n",
        "    print(f\"Predicted: {y_pred[i]:.5f}  |  Actual: {y_test[i]:.5f}\")\n"
      ],
      "metadata": {
        "colab": {
          "base_uri": "https://localhost:8080/"
        },
        "id": "XzUaGyqKrdAY",
        "outputId": "57d2c7b1-1c2f-46ad-9dfd-94ac3de85144"
      },
      "execution_count": 7,
      "outputs": [
        {
          "output_type": "stream",
          "name": "stdout",
          "text": [
            "Predicted: -3.26551  |  Actual: -3.26551\n",
            "Predicted: -4.23425  |  Actual: -4.23425\n",
            "Predicted: -3.29638  |  Actual: -3.29638\n",
            "Predicted: -2.45164  |  Actual: -2.45164\n",
            "Predicted: -4.54526  |  Actual: -4.54527\n",
            "Predicted: -2.82140  |  Actual: -2.82140\n",
            "Predicted: -4.15085  |  Actual: -4.15085\n",
            "Predicted: -3.83426  |  Actual: -3.83426\n",
            "Predicted: 0.15469  |  Actual: 0.15469\n",
            "Predicted: -2.32438  |  Actual: -2.32439\n",
            "Predicted: -3.96937  |  Actual: -3.96937\n",
            "Predicted: -1.35650  |  Actual: -1.35650\n",
            "Predicted: -1.96129  |  Actual: -1.96129\n",
            "Predicted: -3.61708  |  Actual: -3.61709\n",
            "Predicted: -3.32388  |  Actual: -3.32388\n",
            "Predicted: -3.13599  |  Actual: -3.13599\n",
            "Predicted: -2.40268  |  Actual: -2.40268\n",
            "Predicted: -5.06664  |  Actual: -5.06663\n",
            "Predicted: -3.51916  |  Actual: -3.51916\n",
            "Predicted: -4.35408  |  Actual: -4.35408\n"
          ]
        }
      ]
    },
    {
      "cell_type": "code",
      "source": [
        "import matplotlib.pyplot as plt\n",
        "\n",
        "plt.figure(figsize=(8, 6))\n",
        "plt.scatter(y_test, y_pred, alpha=0.5)\n",
        "plt.xlabel(\"Actual Values\")\n",
        "plt.ylabel(\"Predicted Values\")\n",
        "plt.title(\"Actual vs Predicted Mutation Fitness Scores\")\n",
        "plt.plot([-6, 6], [-6, 6], 'r--')  # diagonal reference line\n",
        "plt.grid(True)\n",
        "plt.show()\n"
      ],
      "metadata": {
        "colab": {
          "base_uri": "https://localhost:8080/",
          "height": 564
        },
        "id": "CKOqdIsXrwvO",
        "outputId": "eeb62b62-2803-4ea0-cfd6-8a9918527d30"
      },
      "execution_count": 8,
      "outputs": [
        {
          "output_type": "display_data",
          "data": {
            "text/plain": [
              "<Figure size 800x600 with 1 Axes>"
            ],
            "image/png": "[encoded data removed]"
          },
          "metadata": {}
        }
      ]
    },
    {
      "cell_type": "markdown",
      "source": [
        "import matplotlib.pyplot as plt\n",
        "\n",
        "plt.figure(figsize=(8, 6))\n",
        "plt.scatter(y_test, y_pred, alpha=0.5, color='teal')\n",
        "plt.plot([y_test.min(), y_test.max()], [y_test.min(), y_test.max()], 'r--')\n",
        "plt.xlabel(\"Actual Mutation Impact\")\n",
        "plt.ylabel(\"Predicted Impact\")\n",
        "plt.title(\"Prediction Accuracy\")\n",
        "plt.tight_layout()\n",
        "plt.show()\n"
      ],
      "metadata": {
        "id": "anBM-CjOti8b"
      }
    },
    {
      "cell_type": "code",
      "source": [
        "import pandas as pd\n",
        "\n",
        "# Load data\n",
        "df = pd.read_csv(\"Project_score_combined_Sanger_v2_Broad_21Q2_fitness_scores_bayesian_factors_20240111.tsv\", sep='\\t', index_col=0, low_memory=False)\n",
        "\n",
        "# Check which columns are non-numeric\n",
        "non_numeric_cols = df.select_dtypes(exclude=['number']).columns\n",
        "print(f\"🧾 Non-numeric columns: {list(non_numeric_cols)}\")\n"
      ],
      "metadata": {
        "colab": {
          "base_uri": "https://localhost:8080/"
        },
        "id": "nSjn2jUTvaBy",
        "outputId": "0eefc3cb-c05f-41b4-9c18-80ff2b5a1d9f"
      },
      "execution_count": 3,
      "outputs": [
        {
          "output_type": "stream",
          "name": "stdout",
          "text": [
            "🧾 Non-numeric columns: ['WERI-RB-1 ', 'OVCAR-8', 'UM-UC-10', 'PE-CA-PJ15', 'NCI-H1793', 'SCMC-RM2', 'SW620', 'THUR14TKB', 'Calu-6', 'HCC-827', 'A375', 'JAR', 'SSP-25', 'NCI-H1693', 'OVISE', 'CHP-212', 'NCI-H1155', 'NP-3', 'C80', 'RERF-LC-AI', 'GCIY', 'Farage', 'SNU-398', 'COV413A', 'F-36P', 'NCI-H446', 'CAL-33', 'TO14', 'HCC461', 'NCI-H1944', 'NB1', 'MYLA', 'U251', 'NCI-H82', '639-V', 'LN-464', 'SNU-1077', 'COR-L279', 'NP-8', 'HT-1376', 'SH-4', 'LXF-289', 'OV-90', 'Hs-294-T', 'YKG-1', 'OC-316', 'Hep-G2', 'COG-N-278', 'U-937', 'CAL-78', 'UM-UC-3', 'Mero-82', 'JHH-2', 'TC-106', 'UM-UC-5', 'SK-GT-4', 'CH-157MN', 'UOK101', 'OE21', 'CAL-120', 'LN-428', 'U-87-MG', 'ACC-MESO-1', 'KU-19-19', 'NCI-H1092', 'DLD-1', 'NCI-H716', 'NCI-H358', 'SNU-410', 'KNS-42', 'MPP-89', 'SKN', 'HSC-1', 'SW1463', 'COR-L105', 'LPS853', 'KM12', 'NCI-H322M', 'KYSE-270', 'H4', 'KMS-11', 'CAL-51', 'SK-RC-20', 'HCC202', 'SK-MEL-24', 'NCI-H2126', 'DU-4475', 'SNU-840', 'PFSK-1', 'REH', 'D-425MED', 'KNS-60', 'SK-NEP-1', 'NCI-H23', 'PaCaDD-161', 'Hs-578-T', 'KASUMI-1', 'FU97', 'DoTc2-4510', 'CW9019', 'HT55', 'NCI-H838', 'NCI-H2023', 'PF-382', 'SNU-478', 'SK-OV-3', 'H357', 'THP-1', 'TOV-21G', 'MM383', 'SKG-I', 'HT-1080', '8305C', 'NCI-H3122', 'SNU-719', 'MDA-MB-231', 'IMR-32', 'HCC1806', '647-V', 'SW756', 'RERF-LC-AD2', 'RL', 'MCC14-2', 'PANC-08-13', 'Ishikawa(Heraklio)02ER-', 'SW1088', 'WM983B', 'HEC-59', 'A549', 'RCC10RGB', 'ECC2', '786-0', 'U-343-MGa', 'SNU-668', 'NCI-H2291', 'SK-N-AS', 'VA-ES-BJ', 'COLO-792', 'SCLC-22H', 'NCI-H28', 'SW837', 'WM-115', 'R262', 'OVCAR-5', 'KP-N-YN', 'LK-2', 'HCC1937', 'NCI-H2172', 'MM127', 'RERF-LC-AD1', 'SNU-1544', 'HEC-6', 'HCC-2450', 'LN-319', 'SNU-620', 'TE-10', 'S-117', 'YD-8', 'H103', 'COV362', 'Jurkat', 'LN-382', 'HCC1359', 'JHH-6', 'G-292-Clone-A141B1', 'MDA-MB-436', 'ICC10-8', 'CCK-81', 'KE-39', 'AML-193', 'HCC515', 'KMM-1', 'HuH-6', 'HT-29', 'KMS-26', 'COLO-678', 'SK-RC-31', 'MCAS', 'BICR56', 'C84', 'TCCSUP', 'KMBC-2', 'HKGZ-CC', 'MFM-223', 'ASH-3', 'SF295', 'SK-MEL-2', 'P31-FUJ', 'Hs-852-T', 'MV-4-11', 'KYSE-150', 'WM793B', 'MKN74', '23132-87', 'SK-N-MC', 'OACM5-1', 'SNU-C4', 'TGW', 'EMTOKA', 'HEC-251', 'EC-GI-10', 'CCLF_PEDS_0003_T', 'JIMT-1', 'Hs-944-T', 'KARPAS-422', 'SW1271', 'SHI-1', 'HEL', 'YAPC', 'KP-4', 'EWS-502', 'JR', 'BICR31', 'OCUM-1', 'Hs-746T', 'BC-3C', '59M', 'A253', 'BOKU', 'Calu-1', 'KMRC-1', 'UM-UC-7', 'ABC-1', 'MUG-Chor1', 'SK-HEP-1', 'HCC827-GR5', 'MOLM-13', 'A388', 'COLO-201', 'HCC-15', 'PA-TU-8988S', 'NCI-H209', 'MDST8', 'HuH-7', 'RH-JT', 'TE-11', 'PaCaDD-137', 'SCC-4', 'EN', 'Saos-2', 'SW579', 'COG-AR-359', 'SNU-1196', 'AU565', 'huH-1', 'PE-CA-PJ41_Clone-D2', 'SNU-1105', 'NMC-G1', 'SUIT-2', 'JEG-3', 'PANC-04-03', 'PE-CA-PJ34_Clone-C12', 'NCI-H1568', 'VM-CUB-1', 'HEL-92-1-7', 'KU812', 'Mero-25', 'SEKI', 'CJM', 'UM-UC-9', 'SF767', 'HOP-62', 'SK-MES-1', 'OVK-18', 'BT-549', 'MM1S', 'NCI-H2030', 'MIA-PaCa-2', 'HA1E', 'JHOC-5', 'UW228', 'NCI-H841', 'MONO-MAC-1', 'SCS214', 'KYO-1', 'JMU-RTK-2', 'Hs-683', 'GSS', 'Mero-14', 'NCI-H1437', 'SUP-M2', 'SNU-216', 'WM1799', 'HCC1419', 'EPLC-272H', 'CAL-62', 'SCC152', 'PEA1', 'COLO-679', 'SNG-M', 'DAN-G', 'SK-N-BE-2', 'NCI-H1703', 'GCT', 'RKO', 'PaCaDD-165', 'EKVX', 'D-341MED', 'HCC-366', 'Onda-9', 'PC-14', 'PANC-10-05', 'PE-CA-PJ49', 'OPM-2', 'BFTC-909', '769-P', 'TE-8', 'UPCI-SCC-026', 'SKG-II', 'TE-1', 'SNU-387', 'G-402', 'KALS-1', '5637', 'SK-MEL-30', 'PANC-1', 'NCI-H2122', 'Li-7', 'T98G', 'GP5d', 'JHUEM-1', 'NCI-H1666', 'HCS-2', 'SLR26', 'LS', 'NCI-H747', 'JJN-3', 'FTC-133', 'JHH-5', 'NCI-H2887', 'ES-2', 'U-HO1', 'UM-UC-6', 'FADU', 'HSC-3', 'KYSE-510', 'SNU-1079', 'Hs-729-T', 'NP-2', 'CFPAC-1', 'SK-MM-2', 'EJM', 'SNU-308', 'NUGC-3', 'KELLY', 'PANC-02-03', 'KMRC-20', 'L-1236', 'MEC-1', 'SNU-638', 'ICC9', 'NGP', 'NCI-H2170', 'PLC-PRF-5', 'KYSE-30', 'CC-SW-1', 'SNU-738', 'OVMANA', 'LPS510', 'ICC10-6', 'OCI-My5', 'ChaGo-K-1', 'NCI-H441', 'UM-UC-11', 'EGI-1', 'SNU-1066', 'CME-1', 'OS252', 'TE-6', 'SW1573', 'SNU-886', 'HLF', 'T47D', 'BFTC-905', 'KNS-62', 'SNU-475', 'LN-443', 'L-428', 'HCA1', 'NCI-H1648', '93T449', 'AMO-1', 'KLE', 'CC-LP-1', '21NT', 'C-33-A', 'SNU-213', 'TC-32', 'NOMO-1', 'PK-45H', 'LNCaP-Clone-FGC', 'RL95-2', 'MDA-MB-453', 'BICR22', 'SK-N-DZ', 'SHP-77', 'AGS', 'SNU-1041', 'SW982', 'NCI-H727', 'SNU-1', 'UM-UC-13', 'HT-115', 'EFE-184', 'NCI-H661', 'TC-138', 'COV504', 'NCI-H2004RT', 'NCI-H1694', 'PK-1', 'ESS-1', 'SCCOHT-1', 'COV644', 'OCI-AML2', 'OAW-28', 'SUM-149PT', 'NCI-H520', 'L3-3', 'HEC-50B', 'YH-13', 'HEC-1-B', 'SEM-K2', 'NCI-H2882', 'UM-UC-16', 'D-458MED', 'NCI-H1581', 'TC-205', 'Detroit562', 'ICC3', 'PEO1', 'TTC-642', 'MHH-ES-1', 'EM-2', 'L-363', 'SU8686', 'NCI-H2087', 'UM-UC-1', 'WM-266-4', 'TFK-1', 'MB-1', 'RKN', 'A431', 'COR-L23', 'PANC-05-04', 'ZR-75-1', 'Raji', 'BxPC-3', 'A427', 'RT112-84', 'G-415', 'LP-1', 'NCI-H522', 'SNU-601', 'SJSA-1', 'JoPaca-1', 'HuP-T3', 'TOV-112D', 'LPS27', 'CAKI-2', 'M-07e', 'ONDA8', 'SUM-229PE', 'KMS-27', 'SK-N-FI', 'KYSE-180', '143B', 'PSN1', 'Mel-290', 'SNU-1076', 'KMS-20', 'LoVo', 'KP-2', 'MHH-NB-11', 'D-283MED', 'LS-180', 'TTC-442', 'HB1119', 'TE-9', 'HCC1428', 'HuNS1', 'OMM2-5', 'DMS-53', 'U-2-OS', 'SNU-761', 'SNU-349', 'JHH-7', 'TE-5', 'SK-MEL-19', 'SISO', 'OS-RC-2', 'Yamato-SS', 'MCC26', 'EBC-1', 'UM-Chor1', 'MFE-319', 'MDA-MB-435S', 'RVH-421', 'Y79', 'F5', 'TCC-PAN2', 'KMCH-1', 'EFM-19', 'GAMG', 'Ki-JK', 'ONS-76', 'KCL-22', 'LN-340', 'CAKI-1', 'COLO-824', 'NCI-H2009', 'CCLF_PEDS_0001_T', 'RPMI-7951', 'HCC-2935', 'KYSE-70', 'SUM-52PE', 'SYO-1', 'SUP-T1', 'MDA-MB-468', 'JHOM-1', 'SMS-CTR', 'HCC1143', 'OE33', 'BICR6', 'SNU-423', '950-5-BIK', 'JURL-MK1', 'A375_CJ1', 'HGC-27', 'HMC-1-8', 'JHOS-4', 'YD-38', 'NB-1643', 'MCF7', 'MOR-CPR', 'NCI-H2286', '42-MG-BA', 'TEN', 'KD', '94T778', 'U-2904', 'COV434', 'ICC12', 'LCLC-103H', 'M059K', 'Mel-285', 'ICC2', 'HCC1187', 'MEL-JUSO', 'JHH-4', 'COV318', 'BLUE-1', 'UACC-62', 'KMS-34', 'HCC1954', 'OV-7', 'NCI-H1792', 'SF268', 'SNU-869', 'KON', 'Hs-695-T', 'CAS-1', '95T1000', 'SCaBER', 'LN-Z308', 'COG-E-352', 'SW48', 'Onda-7', 'HSC-5', 'ICC8', 'NALM-6', 'HuCCT1', 'KURAMOCHI', 'Hs-936-T', 'RH-4', 'SF172', 'KYSE-140', 'HT-144', 'SIMA', 'KYSE-410', 'Hey-A8', 'A375_CJ3', 'NCI-H292', '8-MG-BA', 'KATOIII', 'TM-31', 'C-4-I', 'Ca-Ski', 'COG-N-305', 'NB4', 'SNU-201', 'KARPAS-299', 'NCI-H2452', 'Caov-3', 'SLR24', 'DK-MG', 'KYSE-450', 'NCI-H1373', 'HT', 'BHY', 'ONCO-DG-1', 'GI-1', 'COLO-699', 'UM-UC-14', 'NCI-H2110', 'C75', 'Daoy', 'CCLF_PEDS_0008_T', 'HSC-2', 'HCC1395', 'TF-1', 'MDA-MB-415', 'Hs-766T', 'SNU-5', 'GSU', 'TUHR4TKB', 'LN-235', 'SNU-1033', 'DEL', 'OCI-My7', 'Malme-3M', 'KPL-1', 'JHC7', 'NCI-H211', 'JHUEM-7', 'NCI-N87', 'UACC-257', 'NCO2', 'NCI-H2052', 'NCI-H1915', 'A2058', 'SU-DHL-4', 'VCaP', 'RH-28', 'SK-BR-3', 'EFO-27', 'CHLA-06-ATRT', 'JM1', 'LPS6', 'LU-135', 'PA-TU-8902', 'SNU-685', 'CAL-29', 'UACC-62_CJ1', 'CII', 'SNU-503', 'OVTOKO', 'TE-4', 'NP-5', 'KKU-100', 'SNB75', 'MEL-HO', 'K-562', 'JHH-1', 'IGR-1', 'A673', 'KYM-1', 'NOZ', 'HEC-265', '253J', 'H157', 'ANGM-CSS', 'NCI-H1650', 'JHOS-2', 'DB', 'CAL-27', 'RD', 'EoL-1-cell', 'T84', 'YSCCC', 'SNU-8', 'A375_CJ2', 'SNU-182', 'ICC15', 'KP-3', 'SCC-25', 'NCI-H1048', 'LMSU', 'EFO-21', 'K029AX', 'CAL-72', 'TC-71', 'EW-8', 'MM370', 'SuSa', 'KKU-M213', 'KMS-18', 'NCI-H526', 'SF539', 'RBE', 'SiHa', 'HARA', 'BPH-1', 'IST-MES-2', 'IPC-298', 'CAMA-1', 'SK-GT-2', 'SLR23', 'RT-112', 'MM386', 'LU-65', 'P30-OHK', 'LA-N-2', 'INA-6', 'HEC-1', 'H413', 'NCI-H460', 'MDA-MB-157', 'UWB1.289', 'JMSU-1', 'RD-ES', 'SLR20', 'NCI-H1299', 'CHLA-266', 'RPMI-8226', 'HCC95', 'A2780', 'U-118-MG', 'RMUG-S', 'C8166', 'C-4-II', 'SNU-449', 'GB-1', 'C10', 'C32', 'C99', 'PaCaDD-119', 'C2BBe1', 'HCC-44', 'LPS141', 'LN-18', 'IGR-39', 'SUM-159PT', 'COR-L311', 'HCC2429', 'CHLA-15', 'MM426', 'HCC38', 'BIN-67', 'RMG-I', 'SG231', 'T24', 'HuO9', 'LUDLU-1', 'HT-3', 'VMRC-RCW', 'NCI-H1975', 'CCF-STTG1', 'LU-99', 'KYSE-520', 'BL-70', 'NCI-H1339', 'JL-1', 'PGA-1', 'WM88', 'T3M-4', 'COR-L47', 'HKA-1', '22RV1', '23132-87.1', '42-MG-BA.1', '769-P.1', '8-MG-BA.1', 'A172', 'A2058.1', 'A253.1', 'A2780.1', 'A2780ADR', 'A2780cis', 'A375.1', 'A549.1', 'AGS.1', 'AM-38', 'ARH-77', 'AsPC-1', 'AU565.1', 'BB30-HNC', 'BE2-M17', 'Becker', 'BHY.1', 'BICR10', 'BICR22.1', 'BICR78', 'BxPC-3.1', 'C2BBe1.1', 'Ca9-22', 'CAL-27.1', 'CAL-33.1', 'CAL-51.1', 'CAL-72.1', 'Caov-4', 'CAPAN-1', 'CAS-1.1', 'CHP-212.1', 'CL-11', 'COLO-205', 'COLO-320-HSR', 'COLO-680N', 'COLO-684', 'COLO-824.1', 'COR-L23.1', 'D-423MG', 'D-502MG', 'D-542MG', 'DAN-G.1', 'DBTRG-05MG', 'Detroit562.1', 'DiFi', 'DK-MG.1', 'DOK', 'DOV13', 'DU-145', 'EBC-1.1', 'EC-GI-10.1', 'EFO-21.1', 'EFO-27.1', 'EGI-1.1', 'EPLC-272H.1', 'ES-2.1', 'ES4', 'ES5', 'ES8', 'ESO26', 'ESO51', 'ESS-1.1', 'EVSA-T', 'EW-1', 'EW-16', 'EW-22', 'EW-7', 'FADU.1', 'FLO-1', 'GAMG.1', 'GB-1.1', 'GI-1.1', 'GP5d.1', 'HARA.1', 'HCC-78', 'HCC1143.1', 'HCC1187.1', 'HCC1395.1', 'HCC1806.1', 'HCC1937.1', 'HCC1954.1', 'HCC2998', 'HCC38.1', 'HCC70', 'HCE-4', 'HCT-116', 'HCT-15', 'HEC-1.1', 'Hey', 'HGC-27.1', 'HO-1-u-1', 'HOP-62.1', 'HPAF-II', 'Hs-578-T.1', 'Hs-683.1', 'HSC-3.1', 'HSC-39', 'HSC-4', 'HT-29.1', 'HT55.1', 'hTERT-RPE-1', 'HuP-T3.1', 'HuP-T4', 'IGROV-1', 'IM-9', 'IM-95', 'IST-MEL1', 'JHOS-2.1', 'JHOS-4.1', 'JHU-011', 'JHU-022', 'JHU-029', 'JIMT-1.1', 'KATOIII.1', 'KINGS-1', 'KLE.1', 'KM12.1', 'KMS-11.1', 'KNS-42.1', 'KNS-62.1', 'KON.1', 'KP-1N', 'KP-3.1', 'KP-4.1', 'KP-N-YN.1', 'KP-N-YS', 'KURAMOCHI.1', 'KYAE-1', 'KYSE-140.1', 'KYSE-150.1', 'KYSE-220', 'KYSE-270.1', 'KYSE-410.1', 'KYSE-450.1', 'KYSE-510.1', 'KYSE-520.1', 'KYSE-70.1', 'L-363.1', 'LB1047-RCC', 'LB771-HNC', 'LC-1-sq', 'LCLC-97TM1', 'LK-2.1', 'LN-229', 'LNCaP-Clone-FGC.1', 'LNZTA3WT4', 'LOU-NH91', 'LoVo.1', 'LP-1.1', 'LS1034', 'LS-180.1', 'LS-411N', 'LS-513', 'LU-65.1', 'LU-99A', 'LXF-289.1', 'M14', 'MC-IXC', 'MCF7.1', 'MDA-MB-231.1', 'MDA-MB-361', 'MDA-MB-415.1', 'MDA-MB-436.1', 'MDA-MB-453.1', 'MDA-MB-468.1', 'MDST8.1', 'MFE-280', 'MFE-296', 'MFM-223.1', 'MHH-ES-1.1', 'MIA-PaCa-2.1', 'MKN28', 'MOG-G-UVW', 'NB10', 'NB13', 'NB17', 'NB5', 'NB6', 'NB69', 'NB7', 'NCI-H1155.1', 'NCI-H1299.1', 'NCI-H1355', 'NCI-H1568.1', 'NCI-H1650.1', 'NCI-H1755', 'NCI-H1869', 'NCI-H1915.1', 'NCI-H1944.1', 'NCI-H1975.1', 'NCI-H1993', 'NCI-H2023.1', 'NCI-H2087.1', 'NCI-H2170.1', 'NCI-H226', 'NCI-H23.1', 'NCI-H2405', 'NCI-H3118', 'NCI-H3122.1', 'NCI-H322M.1', 'NCI-H358.1', 'NCI-H520.1', 'NCI-H650', 'NCI-N87.1', 'NH-12', 'NMC-G1.1', 'no-10', 'no-11', 'NUGC-3.1', 'OACM5-1.1', 'OAW-42', 'OC-314', 'OCI-AML2.1', 'OCI-AML3', 'OCI-LY-19', 'OCUB-M', 'OE21.1', 'OE33.1', 'OPM-2.1', 'OSC-19', 'OSC-20', 'OV-56', 'OV-90.1', 'OVCA420', 'OVCAR-3', 'OVCAR-5.1', 'OVCAR-8.1', 'OVISE.1', 'OVK-18.1', 'OVMIU', 'PA-TU-8902.1', 'PA-TU-8988T', 'PANC-02-03.1', 'PANC-03-27', 'PANC-04-03.1', 'PANC-08-13.1', 'PANC-10-05.1', 'PC-14.1', 'PCI-15A', 'PCI-30', 'PCI-38', 'PCI-4B', 'PCI-6A', 'PE-CA-PJ15.1', 'PEO1.1', 'PEO4', 'PL4', 'PSN1.1', 'RCC-FG2', 'RCM-1', 'RERF-GC-1B', 'RERF-LC-Sq1', 'RKN.1', 'RKO.1', 'RL95-2.1', 'RMG-I.1', 'ROS-50', 'RPMI-8226.1', 'SAS', 'SCC-4.1', 'SCC-9', 'SCC90', 'SCH', 'SF126', 'SF268.1', 'SF295.1', 'SF539.1', 'SJSA-1.1', 'SK-GT-4.1', 'SK-MEL-2.1', 'SK-MES-1.1', 'SK-MG-1', 'SK-N-AS.1', 'SK-N-DZ.1', 'SK-N-FI.1', 'SK-N-SH', 'SK-PN-DW', 'SKN-3', 'SNB75.1', 'SNG-M.1', 'SNU-1.1', 'SNU-16', 'SNU-61', 'SNU-81', 'SNU-C1', 'SNU-C5', 'SU-DHL-10', 'SU-DHL-5', 'SU-DHL-8', 'SU8686.1', 'SUIT-2.1', 'SW1088.1', 'SW1573.1', 'SW1990', 'SW48.1', 'SW620.1', 'SW626', 'SW837.1', 'T-T', 'T47D.1', 'T84.1', 'T98G.1', 'TC-71.1', 'TE-10.1', 'TE-15', 'TE-4.1', 'TE-5.1', 'TE-8.1', 'TE-9.1', 'TGW.1', 'TMK-1', 'TOV-112D.1', 'TOV-21G.1', 'TYK-nu', 'U-87-MG.1', 'U251.1', 'UACC-893', 'UWB1.289.1', 'VMRC-LCD', 'YH-13.1', 'NCI-H2052.1', 'NCI-H2731', 'NCI-H2803', 'NCI-H2869', 'NCI-H290', 'NCI-H513', 'HSC-2.1', 'MKN45', 'SAT', 'C666-1', 'HK1', 'NP550', 'ORL-115', 'ORL-136', 'ORL-150', 'ORL-153', 'ORL-156', 'ORL-174', 'ORL-204', 'ORL-207', 'ORL-214', 'ORL-215', 'ORL-166', 'ORL-188', 'ORL-195']\n"
          ]
        }
      ]
    },
    {
      "cell_type": "code",
      "source": [
        "print(df_numeric.shape)\n",
        "print(df_clean.shape)\n",
        "print(df_numeric.head())\n"
      ],
      "metadata": {
        "colab": {
          "base_uri": "https://localhost:8080/"
        },
        "id": "h2sjtxYcwCBg",
        "outputId": "92675206-347c-4347-97de-07c87d2ad55e"
      },
      "execution_count": 5,
      "outputs": [
        {
          "output_type": "stream",
          "name": "stdout",
          "text": [
            "(17651, 0)\n",
            "(17651, 0)\n",
            "Empty DataFrame\n",
            "Columns: []\n",
            "Index: [model_id, source, qc_pass, symbol, SHOC2]\n"
          ]
        }
      ]
    },
    {
      "cell_type": "code",
      "source": [
        "import pandas as pd\n",
        "import numpy as np\n",
        "from sklearn.model_selection import train_test_split\n",
        "from sklearn.ensemble import RandomForestRegressor\n",
        "from sklearn.metrics import mean_squared_error\n",
        "from sklearn.impute import SimpleImputer\n",
        "\n",
        "# Load\n",
        "df = pd.read_csv(\"Project_score_combined_Sanger_v2_Broad_21Q2_fitness_scores_bayesian_factors_20240111.tsv\", sep=\"\\t\", index_col=0, low_memory=False)\n",
        "\n",
        "# Convert all to numeric, then reduce to float32\n",
        "df = df.apply(pd.to_numeric, errors='coerce').astype(np.float32)\n",
        "\n",
        "# Drop rows with missing target (first column)\n",
        "target_column = df.columns[0]\n",
        "df = df.dropna(subset=[target_column])\n",
        "\n",
        "# Features & target (limit features for speed)\n",
        "X = df.drop(columns=[target_column]).iloc[:, :200]\n",
        "y = df[target_column]\n",
        "\n",
        "# Impute missing\n",
        "X = SimpleImputer(strategy='mean').fit_transform(X)\n",
        "\n",
        "# Train/test split\n",
        "X_train, X_test, y_train, y_test = train_test_split(X, y, test_size=0.2, random_state=42)\n",
        "\n",
        "# Use smaller RF for speed\n",
        "model = RandomForestRegressor(n_estimators=10, random_state=42)\n",
        "model.fit(X_train, y_train)\n",
        "\n",
        "# Evaluate\n",
        "y_pred = model.predict(X_test)\n",
        "print(\"✅ MSE:\", mean_squared_error(y_test, y_pred))\n"
      ],
      "metadata": {
        "colab": {
          "base_uri": "https://localhost:8080/"
        },
        "id": "dxc3zCu5xy1y",
        "outputId": "9cfa2c32-92f1-492e-a1a0-ffb2ddd73ca5"
      },
      "execution_count": 1,
      "outputs": [
        {
          "output_type": "stream",
          "name": "stdout",
          "text": [
            "✅ MSE: 1.8605263392248403\n"
          ]
        }
      ]
    },
    {
      "cell_type": "code",
      "source": [
        "from sklearn.metrics import mean_absolute_error, r2_score\n",
        "\n",
        "mae = mean_absolute_error(y_test, y_pred)\n",
        "r2 = r2_score(y_test, y_pred)\n",
        "\n",
        "print(f\"MAE: {mae:.4f}\")\n",
        "print(f\"R² Score: {r2:.4f}\")\n"
      ],
      "metadata": {
        "colab": {
          "base_uri": "https://localhost:8080/"
        },
        "id": "adZCq1yJyvkP",
        "outputId": "8920fca9-431f-4bc7-c0b8-de82a2c642c3"
      },
      "execution_count": 2,
      "outputs": [
        {
          "output_type": "stream",
          "name": "stdout",
          "text": [
            "MAE: 0.9417\n",
            "R² Score: 0.7347\n"
          ]
        }
      ]
    },
    {
      "cell_type": "code",
      "source": [
        "!ls\n"
      ],
      "metadata": {
        "colab": {
          "base_uri": "https://localhost:8080/"
        },
        "id": "Z4gLC0wo0FIG",
        "outputId": "87745494-932d-4f6b-d0af-f36a6a12cf12"
      },
      "execution_count": 7,
      "outputs": [
        {
          "output_type": "stream",
          "name": "stdout",
          "text": [
            "Project_score_combined_Sanger_v2_Broad_21Q2_fitness_scores_bayesian_factors_20240111.tsv\n",
            "random_forest_model.pkl\n",
            "sample_data\n"
          ]
        }
      ]
    },
    {
      "cell_type": "code",
      "source": [
        "import pandas as pd\n",
        "import joblib\n",
        "import matplotlib.pyplot as plt\n",
        "import seaborn as sns\n",
        "\n",
        "# Load dataset\n",
        "df = pd.read_csv(\"Project_score_combined_Sanger_v2_Broad_21Q2_fitness_scores_bayesian_factors_20240111.tsv\", sep=\"\\t\", index_col=0, low_memory=False)\n",
        "\n",
        "# Print column names to find your target column\n",
        "print(\"Columns in dataset:\")\n",
        "print(df.columns.tolist())\n"
      ],
      "metadata": {
        "colab": {
          "base_uri": "https://localhost:8080/"
        },
        "id": "FnQxBVOj3_Zg",
        "outputId": "0f8503d3-296c-4e9d-9700-4a5ee3397c6e"
      },
      "execution_count": 14,
      "outputs": [
        {
          "output_type": "stream",
          "name": "stdout",
          "text": [
            "Columns in dataset:\n",
            "['WERI-RB-1 ', 'OVCAR-8', 'UM-UC-10', 'PE-CA-PJ15', 'NCI-H1793', 'SCMC-RM2', 'SW620', 'THUR14TKB', 'Calu-6', 'HCC-827', 'A375', 'JAR', 'SSP-25', 'NCI-H1693', 'OVISE', 'CHP-212', 'NCI-H1155', 'NP-3', 'C80', 'RERF-LC-AI', 'GCIY', 'Farage', 'SNU-398', 'COV413A', 'F-36P', 'NCI-H446', 'CAL-33', 'TO14', 'HCC461', 'NCI-H1944', 'NB1', 'MYLA', 'U251', 'NCI-H82', '639-V', 'LN-464', 'SNU-1077', 'COR-L279', 'NP-8', 'HT-1376', 'SH-4', 'LXF-289', 'OV-90', 'Hs-294-T', 'YKG-1', 'OC-316', 'Hep-G2', 'COG-N-278', 'U-937', 'CAL-78', 'UM-UC-3', 'Mero-82', 'JHH-2', 'TC-106', 'UM-UC-5', 'SK-GT-4', 'CH-157MN', 'UOK101', 'OE21', 'CAL-120', 'LN-428', 'U-87-MG', 'ACC-MESO-1', 'KU-19-19', 'NCI-H1092', 'DLD-1', 'NCI-H716', 'NCI-H358', 'SNU-410', 'KNS-42', 'MPP-89', 'SKN', 'HSC-1', 'SW1463', 'COR-L105', 'LPS853', 'KM12', 'NCI-H322M', 'KYSE-270', 'H4', 'KMS-11', 'CAL-51', 'SK-RC-20', 'HCC202', 'SK-MEL-24', 'NCI-H2126', 'DU-4475', 'SNU-840', 'PFSK-1', 'REH', 'D-425MED', 'KNS-60', 'SK-NEP-1', 'NCI-H23', 'PaCaDD-161', 'Hs-578-T', 'KASUMI-1', 'FU97', 'DoTc2-4510', 'CW9019', 'HT55', 'NCI-H838', 'NCI-H2023', 'PF-382', 'SNU-478', 'SK-OV-3', 'H357', 'THP-1', 'TOV-21G', 'MM383', 'SKG-I', 'HT-1080', '8305C', 'NCI-H3122', 'SNU-719', 'MDA-MB-231', 'IMR-32', 'HCC1806', '647-V', 'SW756', 'RERF-LC-AD2', 'RL', 'MCC14-2', 'PANC-08-13', 'Ishikawa(Heraklio)02ER-', 'SW1088', 'WM983B', 'HEC-59', 'A549', 'RCC10RGB', 'ECC2', '786-0', 'U-343-MGa', 'SNU-668', 'NCI-H2291', 'SK-N-AS', 'VA-ES-BJ', 'COLO-792', 'SCLC-22H', 'NCI-H28', 'SW837', 'WM-115', 'R262', 'OVCAR-5', 'KP-N-YN', 'LK-2', 'HCC1937', 'NCI-H2172', 'MM127', 'RERF-LC-AD1', 'SNU-1544', 'HEC-6', 'HCC-2450', 'LN-319', 'SNU-620', 'TE-10', 'S-117', 'YD-8', 'H103', 'COV362', 'Jurkat', 'LN-382', 'HCC1359', 'JHH-6', 'G-292-Clone-A141B1', 'MDA-MB-436', 'ICC10-8', 'CCK-81', 'KE-39', 'AML-193', 'HCC515', 'KMM-1', 'HuH-6', 'HT-29', 'KMS-26', 'COLO-678', 'SK-RC-31', 'MCAS', 'BICR56', 'C84', 'TCCSUP', 'KMBC-2', 'HKGZ-CC', 'MFM-223', 'ASH-3', 'SF295', 'SK-MEL-2', 'P31-FUJ', 'Hs-852-T', 'MV-4-11', 'KYSE-150', 'WM793B', 'MKN74', '23132-87', 'SK-N-MC', 'OACM5-1', 'SNU-C4', 'TGW', 'EMTOKA', 'HEC-251', 'EC-GI-10', 'CCLF_PEDS_0003_T', 'JIMT-1', 'Hs-944-T', 'KARPAS-422', 'SW1271', 'SHI-1', 'HEL', 'YAPC', 'KP-4', 'EWS-502', 'JR', 'BICR31', 'OCUM-1', 'Hs-746T', 'BC-3C', '59M', 'A253', 'BOKU', 'Calu-1', 'KMRC-1', 'UM-UC-7', 'ABC-1', 'MUG-Chor1', 'SK-HEP-1', 'HCC827-GR5', 'MOLM-13', 'A388', 'COLO-201', 'HCC-15', 'PA-TU-8988S', 'NCI-H209', 'MDST8', 'HuH-7', 'RH-JT', 'TE-11', 'PaCaDD-137', 'SCC-4', 'EN', 'Saos-2', 'SW579', 'COG-AR-359', 'SNU-1196', 'AU565', 'huH-1', 'PE-CA-PJ41_Clone-D2', 'SNU-1105', 'NMC-G1', 'SUIT-2', 'JEG-3', 'PANC-04-03', 'PE-CA-PJ34_Clone-C12', 'NCI-H1568', 'VM-CUB-1', 'HEL-92-1-7', 'KU812', 'Mero-25', 'SEKI', 'CJM', 'UM-UC-9', 'SF767', 'HOP-62', 'SK-MES-1', 'OVK-18', 'BT-549', 'MM1S', 'NCI-H2030', 'MIA-PaCa-2', 'HA1E', 'JHOC-5', 'UW228', 'NCI-H841', 'MONO-MAC-1', 'SCS214', 'KYO-1', 'JMU-RTK-2', 'Hs-683', 'GSS', 'Mero-14', 'NCI-H1437', 'SUP-M2', 'SNU-216', 'WM1799', 'HCC1419', 'EPLC-272H', 'CAL-62', 'SCC152', 'PEA1', 'COLO-679', 'SNG-M', 'DAN-G', 'SK-N-BE-2', 'NCI-H1703', 'GCT', 'RKO', 'PaCaDD-165', 'EKVX', 'D-341MED', 'HCC-366', 'Onda-9', 'PC-14', 'PANC-10-05', 'PE-CA-PJ49', 'OPM-2', 'BFTC-909', '769-P', 'TE-8', 'UPCI-SCC-026', 'SKG-II', 'TE-1', 'SNU-387', 'G-402', 'KALS-1', '5637', 'SK-MEL-30', 'PANC-1', 'NCI-H2122', 'Li-7', 'T98G', 'GP5d', 'JHUEM-1', 'NCI-H1666', 'HCS-2', 'SLR26', 'LS', 'NCI-H747', 'JJN-3', 'FTC-133', 'JHH-5', 'NCI-H2887', 'ES-2', 'U-HO1', 'UM-UC-6', 'FADU', 'HSC-3', 'KYSE-510', 'SNU-1079', 'Hs-729-T', 'NP-2', 'CFPAC-1', 'SK-MM-2', 'EJM', 'SNU-308', 'NUGC-3', 'KELLY', 'PANC-02-03', 'KMRC-20', 'L-1236', 'MEC-1', 'SNU-638', 'ICC9', 'NGP', 'NCI-H2170', 'PLC-PRF-5', 'KYSE-30', 'CC-SW-1', 'SNU-738', 'OVMANA', 'LPS510', 'ICC10-6', 'OCI-My5', 'ChaGo-K-1', 'NCI-H441', 'UM-UC-11', 'EGI-1', 'SNU-1066', 'CME-1', 'OS252', 'TE-6', 'SW1573', 'SNU-886', 'HLF', 'T47D', 'BFTC-905', 'KNS-62', 'SNU-475', 'LN-443', 'L-428', 'HCA1', 'NCI-H1648', '93T449', 'AMO-1', 'KLE', 'CC-LP-1', '21NT', 'C-33-A', 'SNU-213', 'TC-32', 'NOMO-1', 'PK-45H', 'LNCaP-Clone-FGC', 'RL95-2', 'MDA-MB-453', 'BICR22', 'SK-N-DZ', 'SHP-77', 'AGS', 'SNU-1041', 'SW982', 'NCI-H727', 'SNU-1', 'UM-UC-13', 'HT-115', 'EFE-184', 'NCI-H661', 'TC-138', 'COV504', 'NCI-H2004RT', 'NCI-H1694', 'PK-1', 'ESS-1', 'SCCOHT-1', 'COV644', 'OCI-AML2', 'OAW-28', 'SUM-149PT', 'NCI-H520', 'L3-3', 'HEC-50B', 'YH-13', 'HEC-1-B', 'SEM-K2', 'NCI-H2882', 'UM-UC-16', 'D-458MED', 'NCI-H1581', 'TC-205', 'Detroit562', 'ICC3', 'PEO1', 'TTC-642', 'MHH-ES-1', 'EM-2', 'L-363', 'SU8686', 'NCI-H2087', 'UM-UC-1', 'WM-266-4', 'TFK-1', 'MB-1', 'RKN', 'A431', 'COR-L23', 'PANC-05-04', 'ZR-75-1', 'Raji', 'BxPC-3', 'A427', 'RT112-84', 'G-415', 'LP-1', 'NCI-H522', 'SNU-601', 'SJSA-1', 'JoPaca-1', 'HuP-T3', 'TOV-112D', 'LPS27', 'CAKI-2', 'M-07e', 'ONDA8', 'SUM-229PE', 'KMS-27', 'SK-N-FI', 'KYSE-180', '143B', 'PSN1', 'Mel-290', 'SNU-1076', 'KMS-20', 'LoVo', 'KP-2', 'MHH-NB-11', 'D-283MED', 'LS-180', 'TTC-442', 'HB1119', 'TE-9', 'HCC1428', 'HuNS1', 'OMM2-5', 'DMS-53', 'U-2-OS', 'SNU-761', 'SNU-349', 'JHH-7', 'TE-5', 'SK-MEL-19', 'SISO', 'OS-RC-2', 'Yamato-SS', 'MCC26', 'EBC-1', 'UM-Chor1', 'MFE-319', 'MDA-MB-435S', 'RVH-421', 'Y79', 'F5', 'TCC-PAN2', 'KMCH-1', 'EFM-19', 'GAMG', 'Ki-JK', 'ONS-76', 'KCL-22', 'LN-340', 'CAKI-1', 'COLO-824', 'NCI-H2009', 'CCLF_PEDS_0001_T', 'RPMI-7951', 'HCC-2935', 'KYSE-70', 'SUM-52PE', 'SYO-1', 'SUP-T1', 'MDA-MB-468', 'JHOM-1', 'SMS-CTR', 'HCC1143', 'OE33', 'BICR6', 'SNU-423', '950-5-BIK', 'JURL-MK1', 'A375_CJ1', 'HGC-27', 'HMC-1-8', 'JHOS-4', 'YD-38', 'NB-1643', 'MCF7', 'MOR-CPR', 'NCI-H2286', '42-MG-BA', 'TEN', 'KD', '94T778', 'U-2904', 'COV434', 'ICC12', 'LCLC-103H', 'M059K', 'Mel-285', 'ICC2', 'HCC1187', 'MEL-JUSO', 'JHH-4', 'COV318', 'BLUE-1', 'UACC-62', 'KMS-34', 'HCC1954', 'OV-7', 'NCI-H1792', 'SF268', 'SNU-869', 'KON', 'Hs-695-T', 'CAS-1', '95T1000', 'SCaBER', 'LN-Z308', 'COG-E-352', 'SW48', 'Onda-7', 'HSC-5', 'ICC8', 'NALM-6', 'HuCCT1', 'KURAMOCHI', 'Hs-936-T', 'RH-4', 'SF172', 'KYSE-140', 'HT-144', 'SIMA', 'KYSE-410', 'Hey-A8', 'A375_CJ3', 'NCI-H292', '8-MG-BA', 'KATOIII', 'TM-31', 'C-4-I', 'Ca-Ski', 'COG-N-305', 'NB4', 'SNU-201', 'KARPAS-299', 'NCI-H2452', 'Caov-3', 'SLR24', 'DK-MG', 'KYSE-450', 'NCI-H1373', 'HT', 'BHY', 'ONCO-DG-1', 'GI-1', 'COLO-699', 'UM-UC-14', 'NCI-H2110', 'C75', 'Daoy', 'CCLF_PEDS_0008_T', 'HSC-2', 'HCC1395', 'TF-1', 'MDA-MB-415', 'Hs-766T', 'SNU-5', 'GSU', 'TUHR4TKB', 'LN-235', 'SNU-1033', 'DEL', 'OCI-My7', 'Malme-3M', 'KPL-1', 'JHC7', 'NCI-H211', 'JHUEM-7', 'NCI-N87', 'UACC-257', 'NCO2', 'NCI-H2052', 'NCI-H1915', 'A2058', 'SU-DHL-4', 'VCaP', 'RH-28', 'SK-BR-3', 'EFO-27', 'CHLA-06-ATRT', 'JM1', 'LPS6', 'LU-135', 'PA-TU-8902', 'SNU-685', 'CAL-29', 'UACC-62_CJ1', 'CII', 'SNU-503', 'OVTOKO', 'TE-4', 'NP-5', 'KKU-100', 'SNB75', 'MEL-HO', 'K-562', 'JHH-1', 'IGR-1', 'A673', 'KYM-1', 'NOZ', 'HEC-265', '253J', 'H157', 'ANGM-CSS', 'NCI-H1650', 'JHOS-2', 'DB', 'CAL-27', 'RD', 'EoL-1-cell', 'T84', 'YSCCC', 'SNU-8', 'A375_CJ2', 'SNU-182', 'ICC15', 'KP-3', 'SCC-25', 'NCI-H1048', 'LMSU', 'EFO-21', 'K029AX', 'CAL-72', 'TC-71', 'EW-8', 'MM370', 'SuSa', 'KKU-M213', 'KMS-18', 'NCI-H526', 'SF539', 'RBE', 'SiHa', 'HARA', 'BPH-1', 'IST-MES-2', 'IPC-298', 'CAMA-1', 'SK-GT-2', 'SLR23', 'RT-112', 'MM386', 'LU-65', 'P30-OHK', 'LA-N-2', 'INA-6', 'HEC-1', 'H413', 'NCI-H460', 'MDA-MB-157', 'UWB1.289', 'JMSU-1', 'RD-ES', 'SLR20', 'NCI-H1299', 'CHLA-266', 'RPMI-8226', 'HCC95', 'A2780', 'U-118-MG', 'RMUG-S', 'C8166', 'C-4-II', 'SNU-449', 'GB-1', 'C10', 'C32', 'C99', 'PaCaDD-119', 'C2BBe1', 'HCC-44', 'LPS141', 'LN-18', 'IGR-39', 'SUM-159PT', 'COR-L311', 'HCC2429', 'CHLA-15', 'MM426', 'HCC38', 'BIN-67', 'RMG-I', 'SG231', 'T24', 'HuO9', 'LUDLU-1', 'HT-3', 'VMRC-RCW', 'NCI-H1975', 'CCF-STTG1', 'LU-99', 'KYSE-520', 'BL-70', 'NCI-H1339', 'JL-1', 'PGA-1', 'WM88', 'T3M-4', 'COR-L47', 'HKA-1', '22RV1', '23132-87.1', '42-MG-BA.1', '769-P.1', '8-MG-BA.1', 'A172', 'A2058.1', 'A253.1', 'A2780.1', 'A2780ADR', 'A2780cis', 'A375.1', 'A549.1', 'AGS.1', 'AM-38', 'ARH-77', 'AsPC-1', 'AU565.1', 'BB30-HNC', 'BE2-M17', 'Becker', 'BHY.1', 'BICR10', 'BICR22.1', 'BICR78', 'BxPC-3.1', 'C2BBe1.1', 'Ca9-22', 'CAL-27.1', 'CAL-33.1', 'CAL-51.1', 'CAL-72.1', 'Caov-4', 'CAPAN-1', 'CAS-1.1', 'CHP-212.1', 'CL-11', 'COLO-205', 'COLO-320-HSR', 'COLO-680N', 'COLO-684', 'COLO-824.1', 'COR-L23.1', 'D-423MG', 'D-502MG', 'D-542MG', 'DAN-G.1', 'DBTRG-05MG', 'Detroit562.1', 'DiFi', 'DK-MG.1', 'DOK', 'DOV13', 'DU-145', 'EBC-1.1', 'EC-GI-10.1', 'EFO-21.1', 'EFO-27.1', 'EGI-1.1', 'EPLC-272H.1', 'ES-2.1', 'ES4', 'ES5', 'ES8', 'ESO26', 'ESO51', 'ESS-1.1', 'EVSA-T', 'EW-1', 'EW-16', 'EW-22', 'EW-7', 'FADU.1', 'FLO-1', 'GAMG.1', 'GB-1.1', 'GI-1.1', 'GP5d.1', 'HARA.1', 'HCC-78', 'HCC1143.1', 'HCC1187.1', 'HCC1395.1', 'HCC1806.1', 'HCC1937.1', 'HCC1954.1', 'HCC2998', 'HCC38.1', 'HCC70', 'HCE-4', 'HCT-116', 'HCT-15', 'HEC-1.1', 'Hey', 'HGC-27.1', 'HO-1-u-1', 'HOP-62.1', 'HPAF-II', 'Hs-578-T.1', 'Hs-683.1', 'HSC-3.1', 'HSC-39', 'HSC-4', 'HT-29.1', 'HT55.1', 'hTERT-RPE-1', 'HuP-T3.1', 'HuP-T4', 'IGROV-1', 'IM-9', 'IM-95', 'IST-MEL1', 'JHOS-2.1', 'JHOS-4.1', 'JHU-011', 'JHU-022', 'JHU-029', 'JIMT-1.1', 'KATOIII.1', 'KINGS-1', 'KLE.1', 'KM12.1', 'KMS-11.1', 'KNS-42.1', 'KNS-62.1', 'KON.1', 'KP-1N', 'KP-3.1', 'KP-4.1', 'KP-N-YN.1', 'KP-N-YS', 'KURAMOCHI.1', 'KYAE-1', 'KYSE-140.1', 'KYSE-150.1', 'KYSE-220', 'KYSE-270.1', 'KYSE-410.1', 'KYSE-450.1', 'KYSE-510.1', 'KYSE-520.1', 'KYSE-70.1', 'L-363.1', 'LB1047-RCC', 'LB771-HNC', 'LC-1-sq', 'LCLC-97TM1', 'LK-2.1', 'LN-229', 'LNCaP-Clone-FGC.1', 'LNZTA3WT4', 'LOU-NH91', 'LoVo.1', 'LP-1.1', 'LS1034', 'LS-180.1', 'LS-411N', 'LS-513', 'LU-65.1', 'LU-99A', 'LXF-289.1', 'M14', 'MC-IXC', 'MCF7.1', 'MDA-MB-231.1', 'MDA-MB-361', 'MDA-MB-415.1', 'MDA-MB-436.1', 'MDA-MB-453.1', 'MDA-MB-468.1', 'MDST8.1', 'MFE-280', 'MFE-296', 'MFM-223.1', 'MHH-ES-1.1', 'MIA-PaCa-2.1', 'MKN28', 'MOG-G-UVW', 'NB10', 'NB13', 'NB17', 'NB5', 'NB6', 'NB69', 'NB7', 'NCI-H1155.1', 'NCI-H1299.1', 'NCI-H1355', 'NCI-H1568.1', 'NCI-H1650.1', 'NCI-H1755', 'NCI-H1869', 'NCI-H1915.1', 'NCI-H1944.1', 'NCI-H1975.1', 'NCI-H1993', 'NCI-H2023.1', 'NCI-H2087.1', 'NCI-H2170.1', 'NCI-H226', 'NCI-H23.1', 'NCI-H2405', 'NCI-H3118', 'NCI-H3122.1', 'NCI-H322M.1', 'NCI-H358.1', 'NCI-H520.1', 'NCI-H650', 'NCI-N87.1', 'NH-12', 'NMC-G1.1', 'no-10', 'no-11', 'NUGC-3.1', 'OACM5-1.1', 'OAW-42', 'OC-314', 'OCI-AML2.1', 'OCI-AML3', 'OCI-LY-19', 'OCUB-M', 'OE21.1', 'OE33.1', 'OPM-2.1', 'OSC-19', 'OSC-20', 'OV-56', 'OV-90.1', 'OVCA420', 'OVCAR-3', 'OVCAR-5.1', 'OVCAR-8.1', 'OVISE.1', 'OVK-18.1', 'OVMIU', 'PA-TU-8902.1', 'PA-TU-8988T', 'PANC-02-03.1', 'PANC-03-27', 'PANC-04-03.1', 'PANC-08-13.1', 'PANC-10-05.1', 'PC-14.1', 'PCI-15A', 'PCI-30', 'PCI-38', 'PCI-4B', 'PCI-6A', 'PE-CA-PJ15.1', 'PEO1.1', 'PEO4', 'PL4', 'PSN1.1', 'RCC-FG2', 'RCM-1', 'RERF-GC-1B', 'RERF-LC-Sq1', 'RKN.1', 'RKO.1', 'RL95-2.1', 'RMG-I.1', 'ROS-50', 'RPMI-8226.1', 'SAS', 'SCC-4.1', 'SCC-9', 'SCC90', 'SCH', 'SF126', 'SF268.1', 'SF295.1', 'SF539.1', 'SJSA-1.1', 'SK-GT-4.1', 'SK-MEL-2.1', 'SK-MES-1.1', 'SK-MG-1', 'SK-N-AS.1', 'SK-N-DZ.1', 'SK-N-FI.1', 'SK-N-SH', 'SK-PN-DW', 'SKN-3', 'SNB75.1', 'SNG-M.1', 'SNU-1.1', 'SNU-16', 'SNU-61', 'SNU-81', 'SNU-C1', 'SNU-C5', 'SU-DHL-10', 'SU-DHL-5', 'SU-DHL-8', 'SU8686.1', 'SUIT-2.1', 'SW1088.1', 'SW1573.1', 'SW1990', 'SW48.1', 'SW620.1', 'SW626', 'SW837.1', 'T-T', 'T47D.1', 'T84.1', 'T98G.1', 'TC-71.1', 'TE-10.1', 'TE-15', 'TE-4.1', 'TE-5.1', 'TE-8.1', 'TE-9.1', 'TGW.1', 'TMK-1', 'TOV-112D.1', 'TOV-21G.1', 'TYK-nu', 'U-87-MG.1', 'U251.1', 'UACC-893', 'UWB1.289.1', 'VMRC-LCD', 'YH-13.1', 'NCI-H2052.1', 'NCI-H2731', 'NCI-H2803', 'NCI-H2869', 'NCI-H290', 'NCI-H513', 'HSC-2.1', 'MKN45', 'SAT', 'C666-1', 'HK1', 'NP550', 'ORL-115', 'ORL-136', 'ORL-150', 'ORL-153', 'ORL-156', 'ORL-174', 'ORL-204', 'ORL-207', 'ORL-214', 'ORL-215', 'ORL-166', 'ORL-188', 'ORL-195']\n"
          ]
        }
      ]
    },
    {
      "cell_type": "code",
      "source": [
        "target_column = 'A375'  # melanoma cell line\n"
      ],
      "metadata": {
        "id": "t46QUpcU5AAP"
      },
      "execution_count": 15,
      "outputs": []
    },
    {
      "cell_type": "code",
      "source": [
        "df.isna().sum().sort_values()\n"
      ],
      "metadata": {
        "colab": {
          "base_uri": "https://localhost:8080/",
          "height": 458
        },
        "id": "X6ZYz6Y_5DIz",
        "outputId": "d495ef8f-3686-4dc7-efa6-51d31603c9d5"
      },
      "execution_count": 16,
      "outputs": [
        {
          "output_type": "execute_result",
          "data": {
            "text/plain": [
              "ORL-215       1\n",
              "ORL-214       1\n",
              "ORL-207       1\n",
              "ORL-204       1\n",
              "ORL-174       1\n",
              "             ..\n",
              "NP-3          1\n",
              "NCI-H1155     1\n",
              "ORL-188       1\n",
              "ORL-195       1\n",
              "WERI-RB-1     1\n",
              "Length: 1107, dtype: int64"
            ],
            "text/html": [
              "<div>\n",
              "<style scoped>\n",
              "    .dataframe tbody tr th:only-of-type {\n",
              "        vertical-align: middle;\n",
              "    }\n",
              "\n",
              "    .dataframe tbody tr th {\n",
              "        vertical-align: top;\n",
              "    }\n",
              "\n",
              "    .dataframe thead th {\n",
              "        text-align: right;\n",
              "    }\n",
              "</style>\n",
              "<table border=\"1\" class=\"dataframe\">\n",
              "  <thead>\n",
              "    <tr style=\"text-align: right;\">\n",
              "      <th></th>\n",
              "      <th>0</th>\n",
              "    </tr>\n",
              "  </thead>\n",
              "  <tbody>\n",
              "    <tr>\n",
              "      <th>ORL-215</th>\n",
              "      <td>1</td>\n",
              "    </tr>\n",
              "    <tr>\n",
              "      <th>ORL-214</th>\n",
              "      <td>1</td>\n",
              "    </tr>\n",
              "    <tr>\n",
              "      <th>ORL-207</th>\n",
              "      <td>1</td>\n",
              "    </tr>\n",
              "    <tr>\n",
              "      <th>ORL-204</th>\n",
              "      <td>1</td>\n",
              "    </tr>\n",
              "    <tr>\n",
              "      <th>ORL-174</th>\n",
              "      <td>1</td>\n",
              "    </tr>\n",
              "    <tr>\n",
              "      <th>...</th>\n",
              "      <td>...</td>\n",
              "    </tr>\n",
              "    <tr>\n",
              "      <th>NP-3</th>\n",
              "      <td>1</td>\n",
              "    </tr>\n",
              "    <tr>\n",
              "      <th>NCI-H1155</th>\n",
              "      <td>1</td>\n",
              "    </tr>\n",
              "    <tr>\n",
              "      <th>ORL-188</th>\n",
              "      <td>1</td>\n",
              "    </tr>\n",
              "    <tr>\n",
              "      <th>ORL-195</th>\n",
              "      <td>1</td>\n",
              "    </tr>\n",
              "    <tr>\n",
              "      <th>WERI-RB-1</th>\n",
              "      <td>1</td>\n",
              "    </tr>\n",
              "  </tbody>\n",
              "</table>\n",
              "<p>1107 rows × 1 columns</p>\n",
              "</div><br><label><b>dtype:</b> int64</label>"
            ]
          },
          "metadata": {},
          "execution_count": 16
        }
      ]
    },
    {
      "cell_type": "code",
      "source": [
        "import pandas as pd\n",
        "\n",
        "# Load data\n",
        "df = pd.read_csv('Project_score_combined_Sanger_v2_Broad_21Q2_fitness_scores_bayesian_factors_20240111.tsv', sep='\\t', index_col=0)\n",
        "\n",
        "# Option 1: Choose a single cell line (e.g., A375)\n",
        "target_column = 'A375'\n",
        "y = df[target_column]\n",
        "\n",
        "# Option 2: Average across all cell lines\n",
        "# df['mean_fitness_score'] = df.mean(axis=1)\n",
        "# y = df['mean_fitness_score']\n"
      ],
      "metadata": {
        "colab": {
          "base_uri": "https://localhost:8080/"
        },
        "id": "C_0dc5xz5b5b",
        "outputId": "7e36f839-b6f8-4942-fb51-bbf631dc57ba"
      },
      "execution_count": 19,
      "outputs": [
        {
          "output_type": "stream",
          "name": "stderr",
          "text": [
            "<ipython-input-19-43c0106af374>:4: DtypeWarning: Columns (1,2,3,4,5,6,7,8,9,10,11,12,13,14,15,16,17,18,19,20,21,22,23,24,25,26,27,28,29,30,31,32,33,34,35,36,37,38,39,40,41,42,43,44,45,46,47,48,49,50,51,52,53,54,55,56,57,58,59,60,61,62,63,64,65,66,67,68,69,70,71,72,73,74,75,76,77,78,79,80,81,82,83,84,85,86,87,88,89,90,91,92,93,94,95,96,97,98,99,100,101,102,103,104,105,106,107,108,109,110,111,112,113,114,115,116,117,118,119,120,121,122,123,124,125,126,127,128,129,130,131,132,133,134,135,136,137,138,139,140,141,142,143,144,145,146,147,148,149,150,151,152,153,154,155,156,157,158,159,160,161,162,163,164,165,166,167,168,169,170,171,172,173,174,175,176,177,178,179,180,181,182,183,184,185,186,187,188,189,190,191,192,193,194,195,196,197,198,199,200,201,202,203,204,205,206,207,208,209,210,211,212,213,214,215,216,217,218,219,220,221,222,223,224,225,226,227,228,229,230,231,232,233,234,235,236,237,238,239,240,241,242,243,244,245,246,247,248,249,250,251,252,253,254,255,256,257,258,259,260,261,262,263,264,265,266,267,268,269,270,271,272,273,274,275,276,277,278,279,280,281,282,283,284,285,286,287,288,289,290,291,292,293,294,295,296,297,298,299,300,301,302,303,304,305,306,307,308,309,310,311,312,313,314,315,316,317,318,319,320,321,322,323,324,325,326,327,328,329,330,331,332,333,334,335,336,337,338,339,340,341,342,343,344,345,346,347,348,349,350,351,352,353,354,355,356,357,358,359,360,361,362,363,364,365,366,367,368,369,370,371,372,373,374,375,376,377,378,379,380,381,382,383,384,385,386,387,388,389,390,391,392,393,394,395,396,397,398,399,400,401,402,403,404,405,406,407,408,409,410,411,412,413,414,415,416,417,418,419,420,421,422,423,424,425,426,427,428,429,430,431,432,433,434,435,436,437,438,439,440,441,442,443,444,445,446,447,448,449,450,451,452,453,454,455,456,457,458,459,460,461,462,463,464,465,466,467,468,469,470,471,472,473,474,475,476,477,478,479,480,481,482,483,484,485,486,487,488,489,490,491,492,493,494,495,496,497,498,499,500,501,502,503,504,505,506,507,508,509,510,511,512,513,514,515,516,517,518,519,520,521,522,523,524,525,526,527,528,529,530,531,532,533,534,535,536,537,538,539,540,541,542,543,544,545,546,547,548,549,550,551,552,553,554,555,556,557,558,559,560,561,562,563,564,565,566,567,568,569,570,571,572,573,574,575,576,577,578,579,580,581,582,583,584,585,586,587,588,589,590,591,592,593,594,595,596,597,598,599,600,601,602,603,604,605,606,607,608,609,610,611,612,613,614,615,616,617,618,619,620,621,622,623,624,625,626,627,628,629,630,631,632,633,634,635,636,637,638,639,640,641,642,643,644,645,646,647,648,649,650,651,652,653,654,655,656,657,658,659,660,661,662,663,664,665,666,667,668,669,670,671,672,673,674,675,676,677,678,679,680,681,682,683,684,685,686,687,688,689,690,691,692,693,694,695,696,697,698,699,700,701,702,703,704,705,706,707,708,709,710,711,712,713,714,715,716,717,718,719,720,721,722,723,724,725,726,727,728,729,730,731,732,733,734,735,736,737,738,739,740,741,742,743,744,745,746,747,748,749,750,751,752,753,754,755,756,757,758,759,760,761,762,763,764,765,766,767,768,769,770,771,772,773,774,775,776,777,778,779,780,781,782,783,784,785,786,787,788,789,790,791,792,793,794,795,796,797,798,799,800,801,802,803,804,805,806,807,808,809,810,811,812,813,814,815,816,817,818,819,820,821,822,823,824,825,826,827,828,829,830,831,832,833,834,835,836,837,838,839,840,841,842,843,844,845,846,847,848,849,850,851,852,853,854,855,856,857,858,859,860,861,862,863,864,865,866,867,868,869,870,871,872,873,874,875,876,877,878,879,880,881,882,883,884,885,886,887,888,889,890,891,892,893,894,895,896,897,898,899,900,901,902,903,904,905,906,907,908,909,910,911,912,913,914,915,916,917,918,919,920,921,922,923,924,925,926,927,928,929,930,931,932,933,934,935,936,937,938,939,940,941,942,943,944,945,946,947,948,949,950,951,952,953,954,955,956,957,958,959,960,961,962,963,964,965,966,967,968,969,970,971,972,973,974,975,976,977,978,979,980,981,982,983,984,985,986,987,988,989,990,991,992,993,994,995,996,997,998,999,1000,1001,1002,1003,1004,1005,1006,1007,1008,1009,1010,1011,1012,1013,1014,1015,1016,1017,1018,1019,1020,1021,1022,1023,1024,1025,1026,1027,1028,1029,1030,1031,1032,1033,1034,1035,1036,1037,1038,1039,1040,1041,1042,1043,1044,1045,1046,1047,1048,1049,1050,1051,1052,1053,1054,1055,1056,1057,1058,1059,1060,1061,1062,1063,1064,1065,1066,1067,1068,1069,1070,1071,1072,1073,1074,1075,1076,1077,1078,1079,1080,1081,1082,1083,1084,1085,1086,1087,1088,1089,1090,1091,1092,1093,1094,1095,1096,1097,1098,1099,1100,1101,1102,1103,1104,1105,1106,1107) have mixed types. Specify dtype option on import or set low_memory=False.\n",
            "  df = pd.read_csv('Project_score_combined_Sanger_v2_Broad_21Q2_fitness_scores_bayesian_factors_20240111.tsv', sep='\\t', index_col=0)\n"
          ]
        }
      ]
    },
    {
      "cell_type": "code",
      "source": [
        "import matplotlib.pyplot as plt\n",
        "import seaborn as sns\n",
        "\n",
        "# Error distribution\n",
        "errors = y_test - y_pred\n",
        "sns.histplot(errors, kde=True)\n",
        "plt.title(\"Prediction Error Distribution\")\n",
        "plt.xlabel(\"Error\")\n",
        "plt.ylabel(\"Frequency\")\n",
        "plt.show()\n",
        "\n",
        "# True vs Predicted\n",
        "plt.scatter(y_test, y_pred, alpha=0.5)\n",
        "plt.xlabel(\"Actual Fitness Score\")\n",
        "plt.ylabel(\"Predicted Fitness Score\")\n",
        "plt.title(\"True vs Predicted Values\")\n",
        "plt.plot([y_test.min(), y_test.max()], [y_test.min(), y_test.max()], color='red')  # Line y=x\n",
        "plt.show()\n"
      ],
      "metadata": {
        "colab": {
          "base_uri": "https://localhost:8080/",
          "height": 927
        },
        "id": "1NnK2iUv5hVb",
        "outputId": "426692f7-2b8a-470a-f70a-b4f7785ff165"
      },
      "execution_count": 21,
      "outputs": [
        {
          "output_type": "display_data",
          "data": {
            "text/plain": [
              "<Figure size 640x480 with 1 Axes>"
            ],
            "image/png": "[encoded data removed]"
          },
          "metadata": {}
        },
        {
          "output_type": "display_data",
          "data": {
            "text/plain": [
              "<Figure size 640x480 with 1 Axes>"
            ],
            "image/png": "[encoded data removed]"
          },
          "metadata": {}
        }
      ]
    },
    {
      "cell_type": "code",
      "source": [
        "import joblib\n",
        "\n",
        "joblib.dump(model, 'mutation_fitness_predictor.pkl')\n"
      ],
      "metadata": {
        "colab": {
          "base_uri": "https://localhost:8080/"
        },
        "id": "cmeS3Adj9ifi",
        "outputId": "16ba09e4-580f-4353-b624-f205b20a92e4"
      },
      "execution_count": 7,
      "outputs": [
        {
          "output_type": "execute_result",
          "data": {
            "text/plain": [
              "['mutation_fitness_predictor.pkl']"
            ]
          },
          "metadata": {},
          "execution_count": 7
        }
      ]
    },
    {
      "cell_type": "code",
      "source": [
        "import pandas as pd\n",
        "\n",
        "# Load your dataset\n",
        "df = pd.read_csv('Project_score_combined_Sanger_v2_Broad_21Q2_fitness_scores_bayesian_factors_20240111.tsv', sep='\\t', index_col=0)\n"
      ],
      "metadata": {
        "colab": {
          "base_uri": "https://localhost:8080/"
        },
        "id": "M37_a_JBFpy1",
        "outputId": "d03d4640-970d-4d48-984f-070a319bb4d6"
      },
      "execution_count": 10,
      "outputs": [
        {
          "output_type": "stream",
          "name": "stderr",
          "text": [
            "<ipython-input-10-46e26a9adbba>:4: DtypeWarning: Columns (1,2,3,4,5,6,7,8,9,10,11,12,13,14,15,16,17,18,19,20,21,22,23,24,25,26,27,28,29,30,31,32,33,34,35,36,37,38,39,40,41,42,43,44,45,46,47,48,49,50,51,52,53,54,55,56,57,58,59,60,61,62,63,64,65,66,67,68,69,70,71,72,73,74,75,76,77,78,79,80,81,82,83,84,85,86,87,88,89,90,91,92,93,94,95,96,97,98,99,100,101,102,103,104,105,106,107,108,109,110,111,112,113,114,115,116,117,118,119,120,121,122,123,124,125,126,127,128,129,130,131,132,133,134,135,136,137,138,139,140,141,142,143,144,145,146,147,148,149,150,151,152,153,154,155,156,157,158,159,160,161,162,163,164,165,166,167,168,169,170,171,172,173,174,175,176,177,178,179,180,181,182,183,184,185,186,187,188,189,190,191,192,193,194,195,196,197,198,199,200,201,202,203,204,205,206,207,208,209,210,211,212,213,214,215,216,217,218,219,220,221,222,223,224,225,226,227,228,229,230,231,232,233,234,235,236,237,238,239,240,241,242,243,244,245,246,247,248,249,250,251,252,253,254,255,256,257,258,259,260,261,262,263,264,265,266,267,268,269,270,271,272,273,274,275,276,277,278,279,280,281,282,283,284,285,286,287,288,289,290,291,292,293,294,295,296,297,298,299,300,301,302,303,304,305,306,307,308,309,310,311,312,313,314,315,316,317,318,319,320,321,322,323,324,325,326,327,328,329,330,331,332,333,334,335,336,337,338,339,340,341,342,343,344,345,346,347,348,349,350,351,352,353,354,355,356,357,358,359,360,361,362,363,364,365,366,367,368,369,370,371,372,373,374,375,376,377,378,379,380,381,382,383,384,385,386,387,388,389,390,391,392,393,394,395,396,397,398,399,400,401,402,403,404,405,406,407,408,409,410,411,412,413,414,415,416,417,418,419,420,421,422,423,424,425,426,427,428,429,430,431,432,433,434,435,436,437,438,439,440,441,442,443,444,445,446,447,448,449,450,451,452,453,454,455,456,457,458,459,460,461,462,463,464,465,466,467,468,469,470,471,472,473,474,475,476,477,478,479,480,481,482,483,484,485,486,487,488,489,490,491,492,493,494,495,496,497,498,499,500,501,502,503,504,505,506,507,508,509,510,511,512,513,514,515,516,517,518,519,520,521,522,523,524,525,526,527,528,529,530,531,532,533,534,535,536,537,538,539,540,541,542,543,544,545,546,547,548,549,550,551,552,553,554,555,556,557,558,559,560,561,562,563,564,565,566,567,568,569,570,571,572,573,574,575,576,577,578,579,580,581,582,583,584,585,586,587,588,589,590,591,592,593,594,595,596,597,598,599,600,601,602,603,604,605,606,607,608,609,610,611,612,613,614,615,616,617,618,619,620,621,622,623,624,625,626,627,628,629,630,631,632,633,634,635,636,637,638,639,640,641,642,643,644,645,646,647,648,649,650,651,652,653,654,655,656,657,658,659,660,661,662,663,664,665,666,667,668,669,670,671,672,673,674,675,676,677,678,679,680,681,682,683,684,685,686,687,688,689,690,691,692,693,694,695,696,697,698,699,700,701,702,703,704,705,706,707,708,709,710,711,712,713,714,715,716,717,718,719,720,721,722,723,724,725,726,727,728,729,730,731,732,733,734,735,736,737,738,739,740,741,742,743,744,745,746,747,748,749,750,751,752,753,754,755,756,757,758,759,760,761,762,763,764,765,766,767,768,769,770,771,772,773,774,775,776,777,778,779,780,781,782,783,784,785,786,787,788,789,790,791,792,793,794,795,796,797,798,799,800,801,802,803,804,805,806,807,808,809,810,811,812,813,814,815,816,817,818,819,820,821,822,823,824,825,826,827,828,829,830,831,832,833,834,835,836,837,838,839,840,841,842,843,844,845,846,847,848,849,850,851,852,853,854,855,856,857,858,859,860,861,862,863,864,865,866,867,868,869,870,871,872,873,874,875,876,877,878,879,880,881,882,883,884,885,886,887,888,889,890,891,892,893,894,895,896,897,898,899,900,901,902,903,904,905,906,907,908,909,910,911,912,913,914,915,916,917,918,919,920,921,922,923,924,925,926,927,928,929,930,931,932,933,934,935,936,937,938,939,940,941,942,943,944,945,946,947,948,949,950,951,952,953,954,955,956,957,958,959,960,961,962,963,964,965,966,967,968,969,970,971,972,973,974,975,976,977,978,979,980,981,982,983,984,985,986,987,988,989,990,991,992,993,994,995,996,997,998,999,1000,1001,1002,1003,1004,1005,1006,1007,1008,1009,1010,1011,1012,1013,1014,1015,1016,1017,1018,1019,1020,1021,1022,1023,1024,1025,1026,1027,1028,1029,1030,1031,1032,1033,1034,1035,1036,1037,1038,1039,1040,1041,1042,1043,1044,1045,1046,1047,1048,1049,1050,1051,1052,1053,1054,1055,1056,1057,1058,1059,1060,1061,1062,1063,1064,1065,1066,1067,1068,1069,1070,1071,1072,1073,1074,1075,1076,1077,1078,1079,1080,1081,1082,1083,1084,1085,1086,1087,1088,1089,1090,1091,1092,1093,1094,1095,1096,1097,1098,1099,1100,1101,1102,1103,1104,1105,1106,1107) have mixed types. Specify dtype option on import or set low_memory=False.\n",
            "  df = pd.read_csv('Project_score_combined_Sanger_v2_Broad_21Q2_fitness_scores_bayesian_factors_20240111.tsv', sep='\\t', index_col=0)\n"
          ]
        }
      ]
    },
    {
      "cell_type": "code",
      "source": [
        "print(df.columns.tolist())\n"
      ],
      "metadata": {
        "colab": {
          "base_uri": "https://localhost:8080/"
        },
        "id": "croQKPzsGJ9E",
        "outputId": "26571d31-00d9-455a-aae7-bbc1c169f59c"
      },
      "execution_count": 12,
      "outputs": [
        {
          "output_type": "stream",
          "name": "stdout",
          "text": [
            "['WERI-RB-1 ', 'OVCAR-8', 'UM-UC-10', 'PE-CA-PJ15', 'NCI-H1793', 'SCMC-RM2', 'SW620', 'THUR14TKB', 'Calu-6', 'HCC-827', 'A375', 'JAR', 'SSP-25', 'NCI-H1693', 'OVISE', 'CHP-212', 'NCI-H1155', 'NP-3', 'C80', 'RERF-LC-AI', 'GCIY', 'Farage', 'SNU-398', 'COV413A', 'F-36P', 'NCI-H446', 'CAL-33', 'TO14', 'HCC461', 'NCI-H1944', 'NB1', 'MYLA', 'U251', 'NCI-H82', '639-V', 'LN-464', 'SNU-1077', 'COR-L279', 'NP-8', 'HT-1376', 'SH-4', 'LXF-289', 'OV-90', 'Hs-294-T', 'YKG-1', 'OC-316', 'Hep-G2', 'COG-N-278', 'U-937', 'CAL-78', 'UM-UC-3', 'Mero-82', 'JHH-2', 'TC-106', 'UM-UC-5', 'SK-GT-4', 'CH-157MN', 'UOK101', 'OE21', 'CAL-120', 'LN-428', 'U-87-MG', 'ACC-MESO-1', 'KU-19-19', 'NCI-H1092', 'DLD-1', 'NCI-H716', 'NCI-H358', 'SNU-410', 'KNS-42', 'MPP-89', 'SKN', 'HSC-1', 'SW1463', 'COR-L105', 'LPS853', 'KM12', 'NCI-H322M', 'KYSE-270', 'H4', 'KMS-11', 'CAL-51', 'SK-RC-20', 'HCC202', 'SK-MEL-24', 'NCI-H2126', 'DU-4475', 'SNU-840', 'PFSK-1', 'REH', 'D-425MED', 'KNS-60', 'SK-NEP-1', 'NCI-H23', 'PaCaDD-161', 'Hs-578-T', 'KASUMI-1', 'FU97', 'DoTc2-4510', 'CW9019', 'HT55', 'NCI-H838', 'NCI-H2023', 'PF-382', 'SNU-478', 'SK-OV-3', 'H357', 'THP-1', 'TOV-21G', 'MM383', 'SKG-I', 'HT-1080', '8305C', 'NCI-H3122', 'SNU-719', 'MDA-MB-231', 'IMR-32', 'HCC1806', '647-V', 'SW756', 'RERF-LC-AD2', 'RL', 'MCC14-2', 'PANC-08-13', 'Ishikawa(Heraklio)02ER-', 'SW1088', 'WM983B', 'HEC-59', 'A549', 'RCC10RGB', 'ECC2', '786-0', 'U-343-MGa', 'SNU-668', 'NCI-H2291', 'SK-N-AS', 'VA-ES-BJ', 'COLO-792', 'SCLC-22H', 'NCI-H28', 'SW837', 'WM-115', 'R262', 'OVCAR-5', 'KP-N-YN', 'LK-2', 'HCC1937', 'NCI-H2172', 'MM127', 'RERF-LC-AD1', 'SNU-1544', 'HEC-6', 'HCC-2450', 'LN-319', 'SNU-620', 'TE-10', 'S-117', 'YD-8', 'H103', 'COV362', 'Jurkat', 'LN-382', 'HCC1359', 'JHH-6', 'G-292-Clone-A141B1', 'MDA-MB-436', 'ICC10-8', 'CCK-81', 'KE-39', 'AML-193', 'HCC515', 'KMM-1', 'HuH-6', 'HT-29', 'KMS-26', 'COLO-678', 'SK-RC-31', 'MCAS', 'BICR56', 'C84', 'TCCSUP', 'KMBC-2', 'HKGZ-CC', 'MFM-223', 'ASH-3', 'SF295', 'SK-MEL-2', 'P31-FUJ', 'Hs-852-T', 'MV-4-11', 'KYSE-150', 'WM793B', 'MKN74', '23132-87', 'SK-N-MC', 'OACM5-1', 'SNU-C4', 'TGW', 'EMTOKA', 'HEC-251', 'EC-GI-10', 'CCLF_PEDS_0003_T', 'JIMT-1', 'Hs-944-T', 'KARPAS-422', 'SW1271', 'SHI-1', 'HEL', 'YAPC', 'KP-4', 'EWS-502', 'JR', 'BICR31', 'OCUM-1', 'Hs-746T', 'BC-3C', '59M', 'A253', 'BOKU', 'Calu-1', 'KMRC-1', 'UM-UC-7', 'ABC-1', 'MUG-Chor1', 'SK-HEP-1', 'HCC827-GR5', 'MOLM-13', 'A388', 'COLO-201', 'HCC-15', 'PA-TU-8988S', 'NCI-H209', 'MDST8', 'HuH-7', 'RH-JT', 'TE-11', 'PaCaDD-137', 'SCC-4', 'EN', 'Saos-2', 'SW579', 'COG-AR-359', 'SNU-1196', 'AU565', 'huH-1', 'PE-CA-PJ41_Clone-D2', 'SNU-1105', 'NMC-G1', 'SUIT-2', 'JEG-3', 'PANC-04-03', 'PE-CA-PJ34_Clone-C12', 'NCI-H1568', 'VM-CUB-1', 'HEL-92-1-7', 'KU812', 'Mero-25', 'SEKI', 'CJM', 'UM-UC-9', 'SF767', 'HOP-62', 'SK-MES-1', 'OVK-18', 'BT-549', 'MM1S', 'NCI-H2030', 'MIA-PaCa-2', 'HA1E', 'JHOC-5', 'UW228', 'NCI-H841', 'MONO-MAC-1', 'SCS214', 'KYO-1', 'JMU-RTK-2', 'Hs-683', 'GSS', 'Mero-14', 'NCI-H1437', 'SUP-M2', 'SNU-216', 'WM1799', 'HCC1419', 'EPLC-272H', 'CAL-62', 'SCC152', 'PEA1', 'COLO-679', 'SNG-M', 'DAN-G', 'SK-N-BE-2', 'NCI-H1703', 'GCT', 'RKO', 'PaCaDD-165', 'EKVX', 'D-341MED', 'HCC-366', 'Onda-9', 'PC-14', 'PANC-10-05', 'PE-CA-PJ49', 'OPM-2', 'BFTC-909', '769-P', 'TE-8', 'UPCI-SCC-026', 'SKG-II', 'TE-1', 'SNU-387', 'G-402', 'KALS-1', '5637', 'SK-MEL-30', 'PANC-1', 'NCI-H2122', 'Li-7', 'T98G', 'GP5d', 'JHUEM-1', 'NCI-H1666', 'HCS-2', 'SLR26', 'LS', 'NCI-H747', 'JJN-3', 'FTC-133', 'JHH-5', 'NCI-H2887', 'ES-2', 'U-HO1', 'UM-UC-6', 'FADU', 'HSC-3', 'KYSE-510', 'SNU-1079', 'Hs-729-T', 'NP-2', 'CFPAC-1', 'SK-MM-2', 'EJM', 'SNU-308', 'NUGC-3', 'KELLY', 'PANC-02-03', 'KMRC-20', 'L-1236', 'MEC-1', 'SNU-638', 'ICC9', 'NGP', 'NCI-H2170', 'PLC-PRF-5', 'KYSE-30', 'CC-SW-1', 'SNU-738', 'OVMANA', 'LPS510', 'ICC10-6', 'OCI-My5', 'ChaGo-K-1', 'NCI-H441', 'UM-UC-11', 'EGI-1', 'SNU-1066', 'CME-1', 'OS252', 'TE-6', 'SW1573', 'SNU-886', 'HLF', 'T47D', 'BFTC-905', 'KNS-62', 'SNU-475', 'LN-443', 'L-428', 'HCA1', 'NCI-H1648', '93T449', 'AMO-1', 'KLE', 'CC-LP-1', '21NT', 'C-33-A', 'SNU-213', 'TC-32', 'NOMO-1', 'PK-45H', 'LNCaP-Clone-FGC', 'RL95-2', 'MDA-MB-453', 'BICR22', 'SK-N-DZ', 'SHP-77', 'AGS', 'SNU-1041', 'SW982', 'NCI-H727', 'SNU-1', 'UM-UC-13', 'HT-115', 'EFE-184', 'NCI-H661', 'TC-138', 'COV504', 'NCI-H2004RT', 'NCI-H1694', 'PK-1', 'ESS-1', 'SCCOHT-1', 'COV644', 'OCI-AML2', 'OAW-28', 'SUM-149PT', 'NCI-H520', 'L3-3', 'HEC-50B', 'YH-13', 'HEC-1-B', 'SEM-K2', 'NCI-H2882', 'UM-UC-16', 'D-458MED', 'NCI-H1581', 'TC-205', 'Detroit562', 'ICC3', 'PEO1', 'TTC-642', 'MHH-ES-1', 'EM-2', 'L-363', 'SU8686', 'NCI-H2087', 'UM-UC-1', 'WM-266-4', 'TFK-1', 'MB-1', 'RKN', 'A431', 'COR-L23', 'PANC-05-04', 'ZR-75-1', 'Raji', 'BxPC-3', 'A427', 'RT112-84', 'G-415', 'LP-1', 'NCI-H522', 'SNU-601', 'SJSA-1', 'JoPaca-1', 'HuP-T3', 'TOV-112D', 'LPS27', 'CAKI-2', 'M-07e', 'ONDA8', 'SUM-229PE', 'KMS-27', 'SK-N-FI', 'KYSE-180', '143B', 'PSN1', 'Mel-290', 'SNU-1076', 'KMS-20', 'LoVo', 'KP-2', 'MHH-NB-11', 'D-283MED', 'LS-180', 'TTC-442', 'HB1119', 'TE-9', 'HCC1428', 'HuNS1', 'OMM2-5', 'DMS-53', 'U-2-OS', 'SNU-761', 'SNU-349', 'JHH-7', 'TE-5', 'SK-MEL-19', 'SISO', 'OS-RC-2', 'Yamato-SS', 'MCC26', 'EBC-1', 'UM-Chor1', 'MFE-319', 'MDA-MB-435S', 'RVH-421', 'Y79', 'F5', 'TCC-PAN2', 'KMCH-1', 'EFM-19', 'GAMG', 'Ki-JK', 'ONS-76', 'KCL-22', 'LN-340', 'CAKI-1', 'COLO-824', 'NCI-H2009', 'CCLF_PEDS_0001_T', 'RPMI-7951', 'HCC-2935', 'KYSE-70', 'SUM-52PE', 'SYO-1', 'SUP-T1', 'MDA-MB-468', 'JHOM-1', 'SMS-CTR', 'HCC1143', 'OE33', 'BICR6', 'SNU-423', '950-5-BIK', 'JURL-MK1', 'A375_CJ1', 'HGC-27', 'HMC-1-8', 'JHOS-4', 'YD-38', 'NB-1643', 'MCF7', 'MOR-CPR', 'NCI-H2286', '42-MG-BA', 'TEN', 'KD', '94T778', 'U-2904', 'COV434', 'ICC12', 'LCLC-103H', 'M059K', 'Mel-285', 'ICC2', 'HCC1187', 'MEL-JUSO', 'JHH-4', 'COV318', 'BLUE-1', 'UACC-62', 'KMS-34', 'HCC1954', 'OV-7', 'NCI-H1792', 'SF268', 'SNU-869', 'KON', 'Hs-695-T', 'CAS-1', '95T1000', 'SCaBER', 'LN-Z308', 'COG-E-352', 'SW48', 'Onda-7', 'HSC-5', 'ICC8', 'NALM-6', 'HuCCT1', 'KURAMOCHI', 'Hs-936-T', 'RH-4', 'SF172', 'KYSE-140', 'HT-144', 'SIMA', 'KYSE-410', 'Hey-A8', 'A375_CJ3', 'NCI-H292', '8-MG-BA', 'KATOIII', 'TM-31', 'C-4-I', 'Ca-Ski', 'COG-N-305', 'NB4', 'SNU-201', 'KARPAS-299', 'NCI-H2452', 'Caov-3', 'SLR24', 'DK-MG', 'KYSE-450', 'NCI-H1373', 'HT', 'BHY', 'ONCO-DG-1', 'GI-1', 'COLO-699', 'UM-UC-14', 'NCI-H2110', 'C75', 'Daoy', 'CCLF_PEDS_0008_T', 'HSC-2', 'HCC1395', 'TF-1', 'MDA-MB-415', 'Hs-766T', 'SNU-5', 'GSU', 'TUHR4TKB', 'LN-235', 'SNU-1033', 'DEL', 'OCI-My7', 'Malme-3M', 'KPL-1', 'JHC7', 'NCI-H211', 'JHUEM-7', 'NCI-N87', 'UACC-257', 'NCO2', 'NCI-H2052', 'NCI-H1915', 'A2058', 'SU-DHL-4', 'VCaP', 'RH-28', 'SK-BR-3', 'EFO-27', 'CHLA-06-ATRT', 'JM1', 'LPS6', 'LU-135', 'PA-TU-8902', 'SNU-685', 'CAL-29', 'UACC-62_CJ1', 'CII', 'SNU-503', 'OVTOKO', 'TE-4', 'NP-5', 'KKU-100', 'SNB75', 'MEL-HO', 'K-562', 'JHH-1', 'IGR-1', 'A673', 'KYM-1', 'NOZ', 'HEC-265', '253J', 'H157', 'ANGM-CSS', 'NCI-H1650', 'JHOS-2', 'DB', 'CAL-27', 'RD', 'EoL-1-cell', 'T84', 'YSCCC', 'SNU-8', 'A375_CJ2', 'SNU-182', 'ICC15', 'KP-3', 'SCC-25', 'NCI-H1048', 'LMSU', 'EFO-21', 'K029AX', 'CAL-72', 'TC-71', 'EW-8', 'MM370', 'SuSa', 'KKU-M213', 'KMS-18', 'NCI-H526', 'SF539', 'RBE', 'SiHa', 'HARA', 'BPH-1', 'IST-MES-2', 'IPC-298', 'CAMA-1', 'SK-GT-2', 'SLR23', 'RT-112', 'MM386', 'LU-65', 'P30-OHK', 'LA-N-2', 'INA-6', 'HEC-1', 'H413', 'NCI-H460', 'MDA-MB-157', 'UWB1.289', 'JMSU-1', 'RD-ES', 'SLR20', 'NCI-H1299', 'CHLA-266', 'RPMI-8226', 'HCC95', 'A2780', 'U-118-MG', 'RMUG-S', 'C8166', 'C-4-II', 'SNU-449', 'GB-1', 'C10', 'C32', 'C99', 'PaCaDD-119', 'C2BBe1', 'HCC-44', 'LPS141', 'LN-18', 'IGR-39', 'SUM-159PT', 'COR-L311', 'HCC2429', 'CHLA-15', 'MM426', 'HCC38', 'BIN-67', 'RMG-I', 'SG231', 'T24', 'HuO9', 'LUDLU-1', 'HT-3', 'VMRC-RCW', 'NCI-H1975', 'CCF-STTG1', 'LU-99', 'KYSE-520', 'BL-70', 'NCI-H1339', 'JL-1', 'PGA-1', 'WM88', 'T3M-4', 'COR-L47', 'HKA-1', '22RV1', '23132-87.1', '42-MG-BA.1', '769-P.1', '8-MG-BA.1', 'A172', 'A2058.1', 'A253.1', 'A2780.1', 'A2780ADR', 'A2780cis', 'A375.1', 'A549.1', 'AGS.1', 'AM-38', 'ARH-77', 'AsPC-1', 'AU565.1', 'BB30-HNC', 'BE2-M17', 'Becker', 'BHY.1', 'BICR10', 'BICR22.1', 'BICR78', 'BxPC-3.1', 'C2BBe1.1', 'Ca9-22', 'CAL-27.1', 'CAL-33.1', 'CAL-51.1', 'CAL-72.1', 'Caov-4', 'CAPAN-1', 'CAS-1.1', 'CHP-212.1', 'CL-11', 'COLO-205', 'COLO-320-HSR', 'COLO-680N', 'COLO-684', 'COLO-824.1', 'COR-L23.1', 'D-423MG', 'D-502MG', 'D-542MG', 'DAN-G.1', 'DBTRG-05MG', 'Detroit562.1', 'DiFi', 'DK-MG.1', 'DOK', 'DOV13', 'DU-145', 'EBC-1.1', 'EC-GI-10.1', 'EFO-21.1', 'EFO-27.1', 'EGI-1.1', 'EPLC-272H.1', 'ES-2.1', 'ES4', 'ES5', 'ES8', 'ESO26', 'ESO51', 'ESS-1.1', 'EVSA-T', 'EW-1', 'EW-16', 'EW-22', 'EW-7', 'FADU.1', 'FLO-1', 'GAMG.1', 'GB-1.1', 'GI-1.1', 'GP5d.1', 'HARA.1', 'HCC-78', 'HCC1143.1', 'HCC1187.1', 'HCC1395.1', 'HCC1806.1', 'HCC1937.1', 'HCC1954.1', 'HCC2998', 'HCC38.1', 'HCC70', 'HCE-4', 'HCT-116', 'HCT-15', 'HEC-1.1', 'Hey', 'HGC-27.1', 'HO-1-u-1', 'HOP-62.1', 'HPAF-II', 'Hs-578-T.1', 'Hs-683.1', 'HSC-3.1', 'HSC-39', 'HSC-4', 'HT-29.1', 'HT55.1', 'hTERT-RPE-1', 'HuP-T3.1', 'HuP-T4', 'IGROV-1', 'IM-9', 'IM-95', 'IST-MEL1', 'JHOS-2.1', 'JHOS-4.1', 'JHU-011', 'JHU-022', 'JHU-029', 'JIMT-1.1', 'KATOIII.1', 'KINGS-1', 'KLE.1', 'KM12.1', 'KMS-11.1', 'KNS-42.1', 'KNS-62.1', 'KON.1', 'KP-1N', 'KP-3.1', 'KP-4.1', 'KP-N-YN.1', 'KP-N-YS', 'KURAMOCHI.1', 'KYAE-1', 'KYSE-140.1', 'KYSE-150.1', 'KYSE-220', 'KYSE-270.1', 'KYSE-410.1', 'KYSE-450.1', 'KYSE-510.1', 'KYSE-520.1', 'KYSE-70.1', 'L-363.1', 'LB1047-RCC', 'LB771-HNC', 'LC-1-sq', 'LCLC-97TM1', 'LK-2.1', 'LN-229', 'LNCaP-Clone-FGC.1', 'LNZTA3WT4', 'LOU-NH91', 'LoVo.1', 'LP-1.1', 'LS1034', 'LS-180.1', 'LS-411N', 'LS-513', 'LU-65.1', 'LU-99A', 'LXF-289.1', 'M14', 'MC-IXC', 'MCF7.1', 'MDA-MB-231.1', 'MDA-MB-361', 'MDA-MB-415.1', 'MDA-MB-436.1', 'MDA-MB-453.1', 'MDA-MB-468.1', 'MDST8.1', 'MFE-280', 'MFE-296', 'MFM-223.1', 'MHH-ES-1.1', 'MIA-PaCa-2.1', 'MKN28', 'MOG-G-UVW', 'NB10', 'NB13', 'NB17', 'NB5', 'NB6', 'NB69', 'NB7', 'NCI-H1155.1', 'NCI-H1299.1', 'NCI-H1355', 'NCI-H1568.1', 'NCI-H1650.1', 'NCI-H1755', 'NCI-H1869', 'NCI-H1915.1', 'NCI-H1944.1', 'NCI-H1975.1', 'NCI-H1993', 'NCI-H2023.1', 'NCI-H2087.1', 'NCI-H2170.1', 'NCI-H226', 'NCI-H23.1', 'NCI-H2405', 'NCI-H3118', 'NCI-H3122.1', 'NCI-H322M.1', 'NCI-H358.1', 'NCI-H520.1', 'NCI-H650', 'NCI-N87.1', 'NH-12', 'NMC-G1.1', 'no-10', 'no-11', 'NUGC-3.1', 'OACM5-1.1', 'OAW-42', 'OC-314', 'OCI-AML2.1', 'OCI-AML3', 'OCI-LY-19', 'OCUB-M', 'OE21.1', 'OE33.1', 'OPM-2.1', 'OSC-19', 'OSC-20', 'OV-56', 'OV-90.1', 'OVCA420', 'OVCAR-3', 'OVCAR-5.1', 'OVCAR-8.1', 'OVISE.1', 'OVK-18.1', 'OVMIU', 'PA-TU-8902.1', 'PA-TU-8988T', 'PANC-02-03.1', 'PANC-03-27', 'PANC-04-03.1', 'PANC-08-13.1', 'PANC-10-05.1', 'PC-14.1', 'PCI-15A', 'PCI-30', 'PCI-38', 'PCI-4B', 'PCI-6A', 'PE-CA-PJ15.1', 'PEO1.1', 'PEO4', 'PL4', 'PSN1.1', 'RCC-FG2', 'RCM-1', 'RERF-GC-1B', 'RERF-LC-Sq1', 'RKN.1', 'RKO.1', 'RL95-2.1', 'RMG-I.1', 'ROS-50', 'RPMI-8226.1', 'SAS', 'SCC-4.1', 'SCC-9', 'SCC90', 'SCH', 'SF126', 'SF268.1', 'SF295.1', 'SF539.1', 'SJSA-1.1', 'SK-GT-4.1', 'SK-MEL-2.1', 'SK-MES-1.1', 'SK-MG-1', 'SK-N-AS.1', 'SK-N-DZ.1', 'SK-N-FI.1', 'SK-N-SH', 'SK-PN-DW', 'SKN-3', 'SNB75.1', 'SNG-M.1', 'SNU-1.1', 'SNU-16', 'SNU-61', 'SNU-81', 'SNU-C1', 'SNU-C5', 'SU-DHL-10', 'SU-DHL-5', 'SU-DHL-8', 'SU8686.1', 'SUIT-2.1', 'SW1088.1', 'SW1573.1', 'SW1990', 'SW48.1', 'SW620.1', 'SW626', 'SW837.1', 'T-T', 'T47D.1', 'T84.1', 'T98G.1', 'TC-71.1', 'TE-10.1', 'TE-15', 'TE-4.1', 'TE-5.1', 'TE-8.1', 'TE-9.1', 'TGW.1', 'TMK-1', 'TOV-112D.1', 'TOV-21G.1', 'TYK-nu', 'U-87-MG.1', 'U251.1', 'UACC-893', 'UWB1.289.1', 'VMRC-LCD', 'YH-13.1', 'NCI-H2052.1', 'NCI-H2731', 'NCI-H2803', 'NCI-H2869', 'NCI-H290', 'NCI-H513', 'HSC-2.1', 'MKN45', 'SAT', 'C666-1', 'HK1', 'NP550', 'ORL-115', 'ORL-136', 'ORL-150', 'ORL-153', 'ORL-156', 'ORL-174', 'ORL-204', 'ORL-207', 'ORL-214', 'ORL-215', 'ORL-166', 'ORL-188', 'ORL-195']\n"
          ]
        }
      ]
    }
  ]
}